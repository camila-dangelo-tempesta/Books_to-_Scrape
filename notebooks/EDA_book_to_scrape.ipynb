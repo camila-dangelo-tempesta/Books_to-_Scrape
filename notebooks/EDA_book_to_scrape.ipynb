{
 "cells": [
  {
   "cell_type": "markdown",
   "id": "2432a885",
   "metadata": {},
   "source": [
    "# 0.0 IMPORTS"
   ]
  },
  {
   "cell_type": "code",
   "execution_count": 45,
   "id": "1585f8e1",
   "metadata": {},
   "outputs": [],
   "source": [
    "import pandas as pd\n",
    "import numpy as np\n",
    "import sqlite3\n",
    "import sqlalchemy\n",
    "\n",
    "import seaborn as sns\n",
    "import matplotlib\n",
    "import matplotlib.pyplot as plt\n",
    "\n",
    "from sqlalchemy import create_engine"
   ]
  },
  {
   "cell_type": "markdown",
   "id": "40107d49",
   "metadata": {},
   "source": [
    "## LOADING DATA"
   ]
  },
  {
   "cell_type": "code",
   "execution_count": 46,
   "id": "af862366",
   "metadata": {},
   "outputs": [
    {
     "data": {
      "text/plain": [
       "'C:\\\\Users\\\\Utilizador\\\\repos\\\\Python_ds_ao_dev\\\\Projeto_Book_to_Scrape'"
      ]
     },
     "execution_count": 46,
     "metadata": {},
     "output_type": "execute_result"
    }
   ],
   "source": [
    "pwd"
   ]
  },
  {
   "cell_type": "code",
   "execution_count": 47,
   "id": "45f31aaf",
   "metadata": {},
   "outputs": [],
   "source": [
    "path = 'C:\\\\Users\\\\Utilizador\\\\repos\\\\Python_ds_ao_dev\\\\Projeto_Book_to_Scrape\\\\'\n",
    "database_name= 'book_one_db.sqlite'\n",
    "conn = create_engine('sqlite:///' + path + database_name, echo=False)"
   ]
  },
  {
   "cell_type": "code",
   "execution_count": 48,
   "id": "aa4f5e1f",
   "metadata": {},
   "outputs": [],
   "source": [
    "query = \"\"\"\n",
    "    SELECT * FROM book_one\n",
    "\"\"\""
   ]
  },
  {
   "cell_type": "code",
   "execution_count": 49,
   "id": "bf05f636",
   "metadata": {},
   "outputs": [
    {
     "data": {
      "text/html": [
       "<div>\n",
       "<style scoped>\n",
       "    .dataframe tbody tr th:only-of-type {\n",
       "        vertical-align: middle;\n",
       "    }\n",
       "\n",
       "    .dataframe tbody tr th {\n",
       "        vertical-align: top;\n",
       "    }\n",
       "\n",
       "    .dataframe thead th {\n",
       "        text-align: right;\n",
       "    }\n",
       "</style>\n",
       "<table border=\"1\" class=\"dataframe\">\n",
       "  <thead>\n",
       "    <tr style=\"text-align: right;\">\n",
       "      <th></th>\n",
       "      <th>product_name</th>\n",
       "      <th>product_price</th>\n",
       "      <th>product_stock</th>\n",
       "      <th>product_star</th>\n",
       "      <th>product_catalog</th>\n",
       "    </tr>\n",
       "  </thead>\n",
       "  <tbody>\n",
       "    <tr>\n",
       "      <th>0</th>\n",
       "      <td>The Secret Garden</td>\n",
       "      <td>15.08</td>\n",
       "      <td>In stock</td>\n",
       "      <td>Four</td>\n",
       "      <td>classic</td>\n",
       "    </tr>\n",
       "    <tr>\n",
       "      <th>1</th>\n",
       "      <td>The Metamorphosis</td>\n",
       "      <td>28.58</td>\n",
       "      <td>In stock</td>\n",
       "      <td>One</td>\n",
       "      <td>classic</td>\n",
       "    </tr>\n",
       "    <tr>\n",
       "      <th>2</th>\n",
       "      <td>The Pilgrim's Progress</td>\n",
       "      <td>50.26</td>\n",
       "      <td>In stock</td>\n",
       "      <td>Two</td>\n",
       "      <td>classic</td>\n",
       "    </tr>\n",
       "    <tr>\n",
       "      <th>3</th>\n",
       "      <td>The Hound of the ...</td>\n",
       "      <td>14.82</td>\n",
       "      <td>In stock</td>\n",
       "      <td>Two</td>\n",
       "      <td>classic</td>\n",
       "    </tr>\n",
       "    <tr>\n",
       "      <th>4</th>\n",
       "      <td>Little Women (Little Women ...</td>\n",
       "      <td>28.07</td>\n",
       "      <td>In stock</td>\n",
       "      <td>Four</td>\n",
       "      <td>classic</td>\n",
       "    </tr>\n",
       "    <tr>\n",
       "      <th>5</th>\n",
       "      <td>Gone with the Wind</td>\n",
       "      <td>32.49</td>\n",
       "      <td>In stock</td>\n",
       "      <td>Three</td>\n",
       "      <td>classic</td>\n",
       "    </tr>\n",
       "    <tr>\n",
       "      <th>6</th>\n",
       "      <td>Candide</td>\n",
       "      <td>58.63</td>\n",
       "      <td>In stock</td>\n",
       "      <td>Three</td>\n",
       "      <td>classic</td>\n",
       "    </tr>\n",
       "    <tr>\n",
       "      <th>7</th>\n",
       "      <td>Animal Farm</td>\n",
       "      <td>57.22</td>\n",
       "      <td>In stock</td>\n",
       "      <td>Three</td>\n",
       "      <td>classic</td>\n",
       "    </tr>\n",
       "    <tr>\n",
       "      <th>8</th>\n",
       "      <td>Wuthering Heights</td>\n",
       "      <td>17.73</td>\n",
       "      <td>In stock</td>\n",
       "      <td>Three</td>\n",
       "      <td>classic</td>\n",
       "    </tr>\n",
       "    <tr>\n",
       "      <th>9</th>\n",
       "      <td>The Picture of Dorian ...</td>\n",
       "      <td>29.70</td>\n",
       "      <td>In stock</td>\n",
       "      <td>Two</td>\n",
       "      <td>classic</td>\n",
       "    </tr>\n",
       "    <tr>\n",
       "      <th>10</th>\n",
       "      <td>The Complete Stories and ...</td>\n",
       "      <td>26.78</td>\n",
       "      <td>In stock</td>\n",
       "      <td>Four</td>\n",
       "      <td>classic</td>\n",
       "    </tr>\n",
       "    <tr>\n",
       "      <th>11</th>\n",
       "      <td>Beowulf</td>\n",
       "      <td>38.35</td>\n",
       "      <td>In stock</td>\n",
       "      <td>Two</td>\n",
       "      <td>classic</td>\n",
       "    </tr>\n",
       "    <tr>\n",
       "      <th>12</th>\n",
       "      <td>And Then There Were ...</td>\n",
       "      <td>35.01</td>\n",
       "      <td>In stock</td>\n",
       "      <td>Two</td>\n",
       "      <td>classic</td>\n",
       "    </tr>\n",
       "    <tr>\n",
       "      <th>13</th>\n",
       "      <td>The Story of Hong ...</td>\n",
       "      <td>43.19</td>\n",
       "      <td>In stock</td>\n",
       "      <td>Four</td>\n",
       "      <td>classic</td>\n",
       "    </tr>\n",
       "    <tr>\n",
       "      <th>14</th>\n",
       "      <td>The Little Prince</td>\n",
       "      <td>45.42</td>\n",
       "      <td>In stock</td>\n",
       "      <td>Two</td>\n",
       "      <td>classic</td>\n",
       "    </tr>\n",
       "    <tr>\n",
       "      <th>15</th>\n",
       "      <td>Sense and Sensibility</td>\n",
       "      <td>37.46</td>\n",
       "      <td>In stock</td>\n",
       "      <td>One</td>\n",
       "      <td>classic</td>\n",
       "    </tr>\n",
       "    <tr>\n",
       "      <th>16</th>\n",
       "      <td>Of Mice and Men</td>\n",
       "      <td>47.11</td>\n",
       "      <td>In stock</td>\n",
       "      <td>Two</td>\n",
       "      <td>classic</td>\n",
       "    </tr>\n",
       "    <tr>\n",
       "      <th>17</th>\n",
       "      <td>Emma</td>\n",
       "      <td>32.93</td>\n",
       "      <td>In stock</td>\n",
       "      <td>Two</td>\n",
       "      <td>classic</td>\n",
       "    </tr>\n",
       "    <tr>\n",
       "      <th>18</th>\n",
       "      <td>Alice in Wonderland (Alice's ...</td>\n",
       "      <td>55.53</td>\n",
       "      <td>In stock</td>\n",
       "      <td>One</td>\n",
       "      <td>classic</td>\n",
       "    </tr>\n",
       "    <tr>\n",
       "      <th>19</th>\n",
       "      <td>Mesaerion: The Best Science ...</td>\n",
       "      <td>37.59</td>\n",
       "      <td>In stock</td>\n",
       "      <td>One</td>\n",
       "      <td>science_fiction</td>\n",
       "    </tr>\n",
       "    <tr>\n",
       "      <th>20</th>\n",
       "      <td>Join</td>\n",
       "      <td>35.67</td>\n",
       "      <td>In stock</td>\n",
       "      <td>Five</td>\n",
       "      <td>science_fiction</td>\n",
       "    </tr>\n",
       "    <tr>\n",
       "      <th>21</th>\n",
       "      <td>William Shakespeare's Star Wars: ...</td>\n",
       "      <td>43.30</td>\n",
       "      <td>In stock</td>\n",
       "      <td>Four</td>\n",
       "      <td>science_fiction</td>\n",
       "    </tr>\n",
       "    <tr>\n",
       "      <th>22</th>\n",
       "      <td>The Project</td>\n",
       "      <td>10.65</td>\n",
       "      <td>In stock</td>\n",
       "      <td>One</td>\n",
       "      <td>science_fiction</td>\n",
       "    </tr>\n",
       "    <tr>\n",
       "      <th>23</th>\n",
       "      <td>Soft Apocalypse</td>\n",
       "      <td>26.12</td>\n",
       "      <td>In stock</td>\n",
       "      <td>Two</td>\n",
       "      <td>science_fiction</td>\n",
       "    </tr>\n",
       "    <tr>\n",
       "      <th>24</th>\n",
       "      <td>Sleeping Giants (Themis Files ...</td>\n",
       "      <td>48.74</td>\n",
       "      <td>In stock</td>\n",
       "      <td>One</td>\n",
       "      <td>science_fiction</td>\n",
       "    </tr>\n",
       "    <tr>\n",
       "      <th>25</th>\n",
       "      <td>Arena</td>\n",
       "      <td>21.36</td>\n",
       "      <td>In stock</td>\n",
       "      <td>Four</td>\n",
       "      <td>science_fiction</td>\n",
       "    </tr>\n",
       "    <tr>\n",
       "      <th>26</th>\n",
       "      <td>Foundation (Foundation (Publication Order) ...</td>\n",
       "      <td>32.42</td>\n",
       "      <td>In stock</td>\n",
       "      <td>One</td>\n",
       "      <td>science_fiction</td>\n",
       "    </tr>\n",
       "    <tr>\n",
       "      <th>27</th>\n",
       "      <td>The Restaurant at the ...</td>\n",
       "      <td>10.92</td>\n",
       "      <td>In stock</td>\n",
       "      <td>One</td>\n",
       "      <td>science_fiction</td>\n",
       "    </tr>\n",
       "    <tr>\n",
       "      <th>28</th>\n",
       "      <td>Ready Player One</td>\n",
       "      <td>19.07</td>\n",
       "      <td>In stock</td>\n",
       "      <td>Four</td>\n",
       "      <td>science_fiction</td>\n",
       "    </tr>\n",
       "    <tr>\n",
       "      <th>29</th>\n",
       "      <td>Life, the Universe and ...</td>\n",
       "      <td>33.26</td>\n",
       "      <td>In stock</td>\n",
       "      <td>Two</td>\n",
       "      <td>science_fiction</td>\n",
       "    </tr>\n",
       "    <tr>\n",
       "      <th>30</th>\n",
       "      <td>Dune (Dune #1)</td>\n",
       "      <td>54.86</td>\n",
       "      <td>In stock</td>\n",
       "      <td>One</td>\n",
       "      <td>science_fiction</td>\n",
       "    </tr>\n",
       "    <tr>\n",
       "      <th>31</th>\n",
       "      <td>Do Androids Dream of ...</td>\n",
       "      <td>51.48</td>\n",
       "      <td>In stock</td>\n",
       "      <td>One</td>\n",
       "      <td>science_fiction</td>\n",
       "    </tr>\n",
       "    <tr>\n",
       "      <th>32</th>\n",
       "      <td>Three Wishes (River of ...</td>\n",
       "      <td>44.18</td>\n",
       "      <td>In stock</td>\n",
       "      <td>Two</td>\n",
       "      <td>science_fiction</td>\n",
       "    </tr>\n",
       "    <tr>\n",
       "      <th>33</th>\n",
       "      <td>The Last Girl (The ...</td>\n",
       "      <td>36.26</td>\n",
       "      <td>In stock</td>\n",
       "      <td>Two</td>\n",
       "      <td>science_fiction</td>\n",
       "    </tr>\n",
       "    <tr>\n",
       "      <th>34</th>\n",
       "      <td>Having the Barbarian's Baby ...</td>\n",
       "      <td>34.96</td>\n",
       "      <td>In stock</td>\n",
       "      <td>Four</td>\n",
       "      <td>science_fiction</td>\n",
       "    </tr>\n",
       "    <tr>\n",
       "      <th>35</th>\n",
       "      <td>The Long Haul (Diary ...</td>\n",
       "      <td>44.07</td>\n",
       "      <td>In stock</td>\n",
       "      <td>One</td>\n",
       "      <td>humor</td>\n",
       "    </tr>\n",
       "    <tr>\n",
       "      <th>36</th>\n",
       "      <td>Old School (Diary of ...</td>\n",
       "      <td>11.83</td>\n",
       "      <td>In stock</td>\n",
       "      <td>Five</td>\n",
       "      <td>humor</td>\n",
       "    </tr>\n",
       "    <tr>\n",
       "      <th>37</th>\n",
       "      <td>I Know What I'm ...</td>\n",
       "      <td>25.98</td>\n",
       "      <td>In stock</td>\n",
       "      <td>Four</td>\n",
       "      <td>humor</td>\n",
       "    </tr>\n",
       "    <tr>\n",
       "      <th>38</th>\n",
       "      <td>Hyperbole and a Half: ...</td>\n",
       "      <td>14.75</td>\n",
       "      <td>In stock</td>\n",
       "      <td>Five</td>\n",
       "      <td>humor</td>\n",
       "    </tr>\n",
       "    <tr>\n",
       "      <th>39</th>\n",
       "      <td>Dress Your Family in ...</td>\n",
       "      <td>43.68</td>\n",
       "      <td>In stock</td>\n",
       "      <td>Three</td>\n",
       "      <td>humor</td>\n",
       "    </tr>\n",
       "    <tr>\n",
       "      <th>40</th>\n",
       "      <td>Toddlers Are A**holes: It's ...</td>\n",
       "      <td>25.55</td>\n",
       "      <td>In stock</td>\n",
       "      <td>One</td>\n",
       "      <td>humor</td>\n",
       "    </tr>\n",
       "    <tr>\n",
       "      <th>41</th>\n",
       "      <td>When You Are Engulfed ...</td>\n",
       "      <td>30.89</td>\n",
       "      <td>In stock</td>\n",
       "      <td>Five</td>\n",
       "      <td>humor</td>\n",
       "    </tr>\n",
       "    <tr>\n",
       "      <th>42</th>\n",
       "      <td>Naked</td>\n",
       "      <td>31.69</td>\n",
       "      <td>In stock</td>\n",
       "      <td>Three</td>\n",
       "      <td>humor</td>\n",
       "    </tr>\n",
       "    <tr>\n",
       "      <th>43</th>\n",
       "      <td>Lamb: The Gospel According ...</td>\n",
       "      <td>55.50</td>\n",
       "      <td>In stock</td>\n",
       "      <td>Five</td>\n",
       "      <td>humor</td>\n",
       "    </tr>\n",
       "    <tr>\n",
       "      <th>44</th>\n",
       "      <td>Holidays on Ice</td>\n",
       "      <td>51.07</td>\n",
       "      <td>In stock</td>\n",
       "      <td>Two</td>\n",
       "      <td>humor</td>\n",
       "    </tr>\n",
       "    <tr>\n",
       "      <th>45</th>\n",
       "      <td>The Dirty Little Secrets ...</td>\n",
       "      <td>33.34</td>\n",
       "      <td>In stock</td>\n",
       "      <td>Four</td>\n",
       "      <td>business</td>\n",
       "    </tr>\n",
       "    <tr>\n",
       "      <th>46</th>\n",
       "      <td>The Third Wave: An ...</td>\n",
       "      <td>12.61</td>\n",
       "      <td>In stock</td>\n",
       "      <td>Five</td>\n",
       "      <td>business</td>\n",
       "    </tr>\n",
       "    <tr>\n",
       "      <th>47</th>\n",
       "      <td>The 10% Entrepreneur: Live ...</td>\n",
       "      <td>27.55</td>\n",
       "      <td>In stock</td>\n",
       "      <td>Three</td>\n",
       "      <td>business</td>\n",
       "    </tr>\n",
       "    <tr>\n",
       "      <th>48</th>\n",
       "      <td>Shoe Dog: A Memoir ...</td>\n",
       "      <td>23.99</td>\n",
       "      <td>In stock</td>\n",
       "      <td>Two</td>\n",
       "      <td>business</td>\n",
       "    </tr>\n",
       "    <tr>\n",
       "      <th>49</th>\n",
       "      <td>Made to Stick: Why ...</td>\n",
       "      <td>38.85</td>\n",
       "      <td>In stock</td>\n",
       "      <td>Five</td>\n",
       "      <td>business</td>\n",
       "    </tr>\n",
       "    <tr>\n",
       "      <th>50</th>\n",
       "      <td>Quench Your Own Thirst: ...</td>\n",
       "      <td>43.14</td>\n",
       "      <td>In stock</td>\n",
       "      <td>One</td>\n",
       "      <td>business</td>\n",
       "    </tr>\n",
       "    <tr>\n",
       "      <th>51</th>\n",
       "      <td>The Art of Startup ...</td>\n",
       "      <td>21.00</td>\n",
       "      <td>In stock</td>\n",
       "      <td>Three</td>\n",
       "      <td>business</td>\n",
       "    </tr>\n",
       "    <tr>\n",
       "      <th>52</th>\n",
       "      <td>Born for This: How ...</td>\n",
       "      <td>21.59</td>\n",
       "      <td>In stock</td>\n",
       "      <td>Five</td>\n",
       "      <td>business</td>\n",
       "    </tr>\n",
       "    <tr>\n",
       "      <th>53</th>\n",
       "      <td>The E-Myth Revisited: Why ...</td>\n",
       "      <td>36.91</td>\n",
       "      <td>In stock</td>\n",
       "      <td>One</td>\n",
       "      <td>business</td>\n",
       "    </tr>\n",
       "    <tr>\n",
       "      <th>54</th>\n",
       "      <td>Rich Dad, Poor Dad</td>\n",
       "      <td>51.74</td>\n",
       "      <td>In stock</td>\n",
       "      <td>One</td>\n",
       "      <td>business</td>\n",
       "    </tr>\n",
       "    <tr>\n",
       "      <th>55</th>\n",
       "      <td>The Lean Startup: How ...</td>\n",
       "      <td>33.92</td>\n",
       "      <td>In stock</td>\n",
       "      <td>Three</td>\n",
       "      <td>business</td>\n",
       "    </tr>\n",
       "    <tr>\n",
       "      <th>56</th>\n",
       "      <td>Rework</td>\n",
       "      <td>44.88</td>\n",
       "      <td>In stock</td>\n",
       "      <td>Two</td>\n",
       "      <td>business</td>\n",
       "    </tr>\n",
       "  </tbody>\n",
       "</table>\n",
       "</div>"
      ],
      "text/plain": [
       "                                      product_name  product_price  \\\n",
       "0                                The Secret Garden          15.08   \n",
       "1                                The Metamorphosis          28.58   \n",
       "2                           The Pilgrim's Progress          50.26   \n",
       "3                             The Hound of the ...          14.82   \n",
       "4                   Little Women (Little Women ...          28.07   \n",
       "5                               Gone with the Wind          32.49   \n",
       "6                                          Candide          58.63   \n",
       "7                                      Animal Farm          57.22   \n",
       "8                                Wuthering Heights          17.73   \n",
       "9                        The Picture of Dorian ...          29.70   \n",
       "10                    The Complete Stories and ...          26.78   \n",
       "11                                         Beowulf          38.35   \n",
       "12                         And Then There Were ...          35.01   \n",
       "13                           The Story of Hong ...          43.19   \n",
       "14                               The Little Prince          45.42   \n",
       "15                           Sense and Sensibility          37.46   \n",
       "16                                 Of Mice and Men          47.11   \n",
       "17                                            Emma          32.93   \n",
       "18                Alice in Wonderland (Alice's ...          55.53   \n",
       "19                 Mesaerion: The Best Science ...          37.59   \n",
       "20                                            Join          35.67   \n",
       "21            William Shakespeare's Star Wars: ...          43.30   \n",
       "22                                     The Project          10.65   \n",
       "23                                 Soft Apocalypse          26.12   \n",
       "24               Sleeping Giants (Themis Files ...          48.74   \n",
       "25                                           Arena          21.36   \n",
       "26  Foundation (Foundation (Publication Order) ...          32.42   \n",
       "27                       The Restaurant at the ...          10.92   \n",
       "28                                Ready Player One          19.07   \n",
       "29                      Life, the Universe and ...          33.26   \n",
       "30                                  Dune (Dune #1)          54.86   \n",
       "31                        Do Androids Dream of ...          51.48   \n",
       "32                      Three Wishes (River of ...          44.18   \n",
       "33                          The Last Girl (The ...          36.26   \n",
       "34                 Having the Barbarian's Baby ...          34.96   \n",
       "35                        The Long Haul (Diary ...          44.07   \n",
       "36                        Old School (Diary of ...          11.83   \n",
       "37                             I Know What I'm ...          25.98   \n",
       "38                       Hyperbole and a Half: ...          14.75   \n",
       "39                        Dress Your Family in ...          43.68   \n",
       "40                 Toddlers Are A**holes: It's ...          25.55   \n",
       "41                       When You Are Engulfed ...          30.89   \n",
       "42                                           Naked          31.69   \n",
       "43                  Lamb: The Gospel According ...          55.50   \n",
       "44                                 Holidays on Ice          51.07   \n",
       "45                    The Dirty Little Secrets ...          33.34   \n",
       "46                          The Third Wave: An ...          12.61   \n",
       "47                  The 10% Entrepreneur: Live ...          27.55   \n",
       "48                          Shoe Dog: A Memoir ...          23.99   \n",
       "49                          Made to Stick: Why ...          38.85   \n",
       "50                     Quench Your Own Thirst: ...          43.14   \n",
       "51                          The Art of Startup ...          21.00   \n",
       "52                          Born for This: How ...          21.59   \n",
       "53                   The E-Myth Revisited: Why ...          36.91   \n",
       "54                              Rich Dad, Poor Dad          51.74   \n",
       "55                       The Lean Startup: How ...          33.92   \n",
       "56                                          Rework          44.88   \n",
       "\n",
       "       product_stock product_star   product_catalog  \n",
       "0           In stock         Four           classic  \n",
       "1           In stock          One           classic  \n",
       "2           In stock          Two           classic  \n",
       "3           In stock          Two           classic  \n",
       "4           In stock         Four           classic  \n",
       "5           In stock        Three           classic  \n",
       "6           In stock        Three           classic  \n",
       "7           In stock        Three           classic  \n",
       "8           In stock        Three           classic  \n",
       "9           In stock          Two           classic  \n",
       "10          In stock         Four           classic  \n",
       "11          In stock          Two           classic  \n",
       "12          In stock          Two           classic  \n",
       "13          In stock         Four           classic  \n",
       "14          In stock          Two           classic  \n",
       "15          In stock          One           classic  \n",
       "16          In stock          Two           classic  \n",
       "17          In stock          Two           classic  \n",
       "18          In stock          One           classic  \n",
       "19          In stock          One  science_fiction   \n",
       "20          In stock         Five  science_fiction   \n",
       "21          In stock         Four  science_fiction   \n",
       "22          In stock          One  science_fiction   \n",
       "23          In stock          Two  science_fiction   \n",
       "24          In stock          One  science_fiction   \n",
       "25          In stock         Four  science_fiction   \n",
       "26          In stock          One  science_fiction   \n",
       "27          In stock          One  science_fiction   \n",
       "28          In stock         Four  science_fiction   \n",
       "29          In stock          Two  science_fiction   \n",
       "30          In stock          One  science_fiction   \n",
       "31          In stock          One  science_fiction   \n",
       "32          In stock          Two  science_fiction   \n",
       "33          In stock          Two  science_fiction   \n",
       "34          In stock         Four  science_fiction   \n",
       "35          In stock          One            humor   \n",
       "36          In stock         Five            humor   \n",
       "37          In stock         Four            humor   \n",
       "38          In stock         Five            humor   \n",
       "39          In stock        Three            humor   \n",
       "40          In stock          One            humor   \n",
       "41          In stock         Five            humor   \n",
       "42          In stock        Three            humor   \n",
       "43          In stock         Five            humor   \n",
       "44          In stock          Two            humor   \n",
       "45          In stock         Four         business   \n",
       "46          In stock         Five         business   \n",
       "47          In stock        Three         business   \n",
       "48          In stock          Two         business   \n",
       "49          In stock         Five         business   \n",
       "50          In stock          One         business   \n",
       "51          In stock        Three         business   \n",
       "52          In stock         Five         business   \n",
       "53          In stock          One         business   \n",
       "54          In stock          One         business   \n",
       "55          In stock        Three         business   \n",
       "56          In stock          Two         business   "
      ]
     },
     "execution_count": 49,
     "metadata": {},
     "output_type": "execute_result"
    }
   ],
   "source": [
    "data = pd.read_sql(query, con=conn)\n",
    "data"
   ]
  },
  {
   "cell_type": "code",
   "execution_count": 50,
   "id": "f97c2f08",
   "metadata": {},
   "outputs": [],
   "source": [
    "data.to_csv('data_raw_book.csv')"
   ]
  },
  {
   "cell_type": "markdown",
   "id": "4ad9299a",
   "metadata": {},
   "source": [
    "# 1.0 DATA CLEANING"
   ]
  },
  {
   "cell_type": "markdown",
   "id": "6478f251",
   "metadata": {},
   "source": [
    "## Data Description"
   ]
  },
  {
   "cell_type": "code",
   "execution_count": 51,
   "id": "ab30662d",
   "metadata": {},
   "outputs": [],
   "source": [
    "df1 = data.copy()"
   ]
  },
  {
   "cell_type": "markdown",
   "id": "46f363bb",
   "metadata": {},
   "source": [
    "## 1.1 Data Dimensions"
   ]
  },
  {
   "cell_type": "code",
   "execution_count": 52,
   "id": "255a368d",
   "metadata": {},
   "outputs": [
    {
     "name": "stdout",
     "output_type": "stream",
     "text": [
      "Number of Rows: 57\n",
      "Number of Cols: 5\n"
     ]
    }
   ],
   "source": [
    "# Tamanho de linhas e colunas\n",
    "print('Number of Rows: {}'.format(df1.shape[0]))\n",
    "print('Number of Cols: {}'.format(df1.shape[1]))   "
   ]
  },
  {
   "cell_type": "markdown",
   "id": "9b700063",
   "metadata": {},
   "source": [
    "## 1.2 Data types"
   ]
  },
  {
   "cell_type": "code",
   "execution_count": 53,
   "id": "282bed25",
   "metadata": {},
   "outputs": [
    {
     "data": {
      "text/plain": [
       "product_name        object\n",
       "product_price      float64\n",
       "product_stock       object\n",
       "product_star        object\n",
       "product_catalog     object\n",
       "dtype: object"
      ]
     },
     "execution_count": 53,
     "metadata": {},
     "output_type": "execute_result"
    }
   ],
   "source": [
    "df1.dtypes"
   ]
  },
  {
   "cell_type": "markdown",
   "id": "41873ce8",
   "metadata": {},
   "source": [
    "## 1.3 Check NA"
   ]
  },
  {
   "cell_type": "code",
   "execution_count": 54,
   "id": "f4aea482",
   "metadata": {},
   "outputs": [
    {
     "data": {
      "text/plain": [
       "product_name       0\n",
       "product_price      0\n",
       "product_stock      0\n",
       "product_star       0\n",
       "product_catalog    0\n",
       "dtype: int64"
      ]
     },
     "execution_count": 54,
     "metadata": {},
     "output_type": "execute_result"
    }
   ],
   "source": [
    "df1.isna().sum()"
   ]
  },
  {
   "cell_type": "code",
   "execution_count": 55,
   "id": "615fce8d",
   "metadata": {},
   "outputs": [
    {
     "data": {
      "text/plain": [
       "product_name       0.0\n",
       "product_price      0.0\n",
       "product_stock      0.0\n",
       "product_star       0.0\n",
       "product_catalog    0.0\n",
       "dtype: float64"
      ]
     },
     "execution_count": 55,
     "metadata": {},
     "output_type": "execute_result"
    }
   ],
   "source": [
    "# percentage of missing data by total rows\n",
    "df1.isna().sum() / data.shape[0]"
   ]
  },
  {
   "cell_type": "markdown",
   "id": "e5888292",
   "metadata": {},
   "source": [
    "##  1.4 Descriptive Statistical"
   ]
  },
  {
   "cell_type": "code",
   "execution_count": 56,
   "id": "4cbcdb2e",
   "metadata": {},
   "outputs": [
    {
     "data": {
      "text/html": [
       "<div>\n",
       "<style scoped>\n",
       "    .dataframe tbody tr th:only-of-type {\n",
       "        vertical-align: middle;\n",
       "    }\n",
       "\n",
       "    .dataframe tbody tr th {\n",
       "        vertical-align: top;\n",
       "    }\n",
       "\n",
       "    .dataframe thead th {\n",
       "        text-align: right;\n",
       "    }\n",
       "</style>\n",
       "<table border=\"1\" class=\"dataframe\">\n",
       "  <thead>\n",
       "    <tr style=\"text-align: right;\">\n",
       "      <th></th>\n",
       "      <th>product_price</th>\n",
       "    </tr>\n",
       "  </thead>\n",
       "  <tbody>\n",
       "    <tr>\n",
       "      <th>0</th>\n",
       "      <td>15.08</td>\n",
       "    </tr>\n",
       "    <tr>\n",
       "      <th>1</th>\n",
       "      <td>28.58</td>\n",
       "    </tr>\n",
       "    <tr>\n",
       "      <th>2</th>\n",
       "      <td>50.26</td>\n",
       "    </tr>\n",
       "    <tr>\n",
       "      <th>3</th>\n",
       "      <td>14.82</td>\n",
       "    </tr>\n",
       "    <tr>\n",
       "      <th>4</th>\n",
       "      <td>28.07</td>\n",
       "    </tr>\n",
       "    <tr>\n",
       "      <th>5</th>\n",
       "      <td>32.49</td>\n",
       "    </tr>\n",
       "    <tr>\n",
       "      <th>6</th>\n",
       "      <td>58.63</td>\n",
       "    </tr>\n",
       "    <tr>\n",
       "      <th>7</th>\n",
       "      <td>57.22</td>\n",
       "    </tr>\n",
       "    <tr>\n",
       "      <th>8</th>\n",
       "      <td>17.73</td>\n",
       "    </tr>\n",
       "    <tr>\n",
       "      <th>9</th>\n",
       "      <td>29.70</td>\n",
       "    </tr>\n",
       "    <tr>\n",
       "      <th>10</th>\n",
       "      <td>26.78</td>\n",
       "    </tr>\n",
       "    <tr>\n",
       "      <th>11</th>\n",
       "      <td>38.35</td>\n",
       "    </tr>\n",
       "    <tr>\n",
       "      <th>12</th>\n",
       "      <td>35.01</td>\n",
       "    </tr>\n",
       "    <tr>\n",
       "      <th>13</th>\n",
       "      <td>43.19</td>\n",
       "    </tr>\n",
       "    <tr>\n",
       "      <th>14</th>\n",
       "      <td>45.42</td>\n",
       "    </tr>\n",
       "    <tr>\n",
       "      <th>15</th>\n",
       "      <td>37.46</td>\n",
       "    </tr>\n",
       "    <tr>\n",
       "      <th>16</th>\n",
       "      <td>47.11</td>\n",
       "    </tr>\n",
       "    <tr>\n",
       "      <th>17</th>\n",
       "      <td>32.93</td>\n",
       "    </tr>\n",
       "    <tr>\n",
       "      <th>18</th>\n",
       "      <td>55.53</td>\n",
       "    </tr>\n",
       "    <tr>\n",
       "      <th>19</th>\n",
       "      <td>37.59</td>\n",
       "    </tr>\n",
       "    <tr>\n",
       "      <th>20</th>\n",
       "      <td>35.67</td>\n",
       "    </tr>\n",
       "    <tr>\n",
       "      <th>21</th>\n",
       "      <td>43.30</td>\n",
       "    </tr>\n",
       "    <tr>\n",
       "      <th>22</th>\n",
       "      <td>10.65</td>\n",
       "    </tr>\n",
       "    <tr>\n",
       "      <th>23</th>\n",
       "      <td>26.12</td>\n",
       "    </tr>\n",
       "    <tr>\n",
       "      <th>24</th>\n",
       "      <td>48.74</td>\n",
       "    </tr>\n",
       "    <tr>\n",
       "      <th>25</th>\n",
       "      <td>21.36</td>\n",
       "    </tr>\n",
       "    <tr>\n",
       "      <th>26</th>\n",
       "      <td>32.42</td>\n",
       "    </tr>\n",
       "    <tr>\n",
       "      <th>27</th>\n",
       "      <td>10.92</td>\n",
       "    </tr>\n",
       "    <tr>\n",
       "      <th>28</th>\n",
       "      <td>19.07</td>\n",
       "    </tr>\n",
       "    <tr>\n",
       "      <th>29</th>\n",
       "      <td>33.26</td>\n",
       "    </tr>\n",
       "    <tr>\n",
       "      <th>30</th>\n",
       "      <td>54.86</td>\n",
       "    </tr>\n",
       "    <tr>\n",
       "      <th>31</th>\n",
       "      <td>51.48</td>\n",
       "    </tr>\n",
       "    <tr>\n",
       "      <th>32</th>\n",
       "      <td>44.18</td>\n",
       "    </tr>\n",
       "    <tr>\n",
       "      <th>33</th>\n",
       "      <td>36.26</td>\n",
       "    </tr>\n",
       "    <tr>\n",
       "      <th>34</th>\n",
       "      <td>34.96</td>\n",
       "    </tr>\n",
       "    <tr>\n",
       "      <th>35</th>\n",
       "      <td>44.07</td>\n",
       "    </tr>\n",
       "    <tr>\n",
       "      <th>36</th>\n",
       "      <td>11.83</td>\n",
       "    </tr>\n",
       "    <tr>\n",
       "      <th>37</th>\n",
       "      <td>25.98</td>\n",
       "    </tr>\n",
       "    <tr>\n",
       "      <th>38</th>\n",
       "      <td>14.75</td>\n",
       "    </tr>\n",
       "    <tr>\n",
       "      <th>39</th>\n",
       "      <td>43.68</td>\n",
       "    </tr>\n",
       "    <tr>\n",
       "      <th>40</th>\n",
       "      <td>25.55</td>\n",
       "    </tr>\n",
       "    <tr>\n",
       "      <th>41</th>\n",
       "      <td>30.89</td>\n",
       "    </tr>\n",
       "    <tr>\n",
       "      <th>42</th>\n",
       "      <td>31.69</td>\n",
       "    </tr>\n",
       "    <tr>\n",
       "      <th>43</th>\n",
       "      <td>55.50</td>\n",
       "    </tr>\n",
       "    <tr>\n",
       "      <th>44</th>\n",
       "      <td>51.07</td>\n",
       "    </tr>\n",
       "    <tr>\n",
       "      <th>45</th>\n",
       "      <td>33.34</td>\n",
       "    </tr>\n",
       "    <tr>\n",
       "      <th>46</th>\n",
       "      <td>12.61</td>\n",
       "    </tr>\n",
       "    <tr>\n",
       "      <th>47</th>\n",
       "      <td>27.55</td>\n",
       "    </tr>\n",
       "    <tr>\n",
       "      <th>48</th>\n",
       "      <td>23.99</td>\n",
       "    </tr>\n",
       "    <tr>\n",
       "      <th>49</th>\n",
       "      <td>38.85</td>\n",
       "    </tr>\n",
       "    <tr>\n",
       "      <th>50</th>\n",
       "      <td>43.14</td>\n",
       "    </tr>\n",
       "    <tr>\n",
       "      <th>51</th>\n",
       "      <td>21.00</td>\n",
       "    </tr>\n",
       "    <tr>\n",
       "      <th>52</th>\n",
       "      <td>21.59</td>\n",
       "    </tr>\n",
       "    <tr>\n",
       "      <th>53</th>\n",
       "      <td>36.91</td>\n",
       "    </tr>\n",
       "    <tr>\n",
       "      <th>54</th>\n",
       "      <td>51.74</td>\n",
       "    </tr>\n",
       "    <tr>\n",
       "      <th>55</th>\n",
       "      <td>33.92</td>\n",
       "    </tr>\n",
       "    <tr>\n",
       "      <th>56</th>\n",
       "      <td>44.88</td>\n",
       "    </tr>\n",
       "  </tbody>\n",
       "</table>\n",
       "</div>"
      ],
      "text/plain": [
       "    product_price\n",
       "0           15.08\n",
       "1           28.58\n",
       "2           50.26\n",
       "3           14.82\n",
       "4           28.07\n",
       "5           32.49\n",
       "6           58.63\n",
       "7           57.22\n",
       "8           17.73\n",
       "9           29.70\n",
       "10          26.78\n",
       "11          38.35\n",
       "12          35.01\n",
       "13          43.19\n",
       "14          45.42\n",
       "15          37.46\n",
       "16          47.11\n",
       "17          32.93\n",
       "18          55.53\n",
       "19          37.59\n",
       "20          35.67\n",
       "21          43.30\n",
       "22          10.65\n",
       "23          26.12\n",
       "24          48.74\n",
       "25          21.36\n",
       "26          32.42\n",
       "27          10.92\n",
       "28          19.07\n",
       "29          33.26\n",
       "30          54.86\n",
       "31          51.48\n",
       "32          44.18\n",
       "33          36.26\n",
       "34          34.96\n",
       "35          44.07\n",
       "36          11.83\n",
       "37          25.98\n",
       "38          14.75\n",
       "39          43.68\n",
       "40          25.55\n",
       "41          30.89\n",
       "42          31.69\n",
       "43          55.50\n",
       "44          51.07\n",
       "45          33.34\n",
       "46          12.61\n",
       "47          27.55\n",
       "48          23.99\n",
       "49          38.85\n",
       "50          43.14\n",
       "51          21.00\n",
       "52          21.59\n",
       "53          36.91\n",
       "54          51.74\n",
       "55          33.92\n",
       "56          44.88"
      ]
     },
     "execution_count": 56,
     "metadata": {},
     "output_type": "execute_result"
    }
   ],
   "source": [
    "# Selecting columns that contain only numeric data: int and float\n",
    "num_attributes = df1.select_dtypes(include=['int64','float64' ])\n",
    "num_attributes"
   ]
  },
  {
   "cell_type": "code",
   "execution_count": 57,
   "id": "4ecd43c8",
   "metadata": {},
   "outputs": [
    {
     "data": {
      "text/html": [
       "<div>\n",
       "<style scoped>\n",
       "    .dataframe tbody tr th:only-of-type {\n",
       "        vertical-align: middle;\n",
       "    }\n",
       "\n",
       "    .dataframe tbody tr th {\n",
       "        vertical-align: top;\n",
       "    }\n",
       "\n",
       "    .dataframe thead th {\n",
       "        text-align: right;\n",
       "    }\n",
       "</style>\n",
       "<table border=\"1\" class=\"dataframe\">\n",
       "  <thead>\n",
       "    <tr style=\"text-align: right;\">\n",
       "      <th></th>\n",
       "      <th>product_name</th>\n",
       "      <th>product_stock</th>\n",
       "      <th>product_star</th>\n",
       "      <th>product_catalog</th>\n",
       "    </tr>\n",
       "  </thead>\n",
       "  <tbody>\n",
       "    <tr>\n",
       "      <th>0</th>\n",
       "      <td>The Secret Garden</td>\n",
       "      <td>In stock</td>\n",
       "      <td>Four</td>\n",
       "      <td>classic</td>\n",
       "    </tr>\n",
       "    <tr>\n",
       "      <th>1</th>\n",
       "      <td>The Metamorphosis</td>\n",
       "      <td>In stock</td>\n",
       "      <td>One</td>\n",
       "      <td>classic</td>\n",
       "    </tr>\n",
       "    <tr>\n",
       "      <th>2</th>\n",
       "      <td>The Pilgrim's Progress</td>\n",
       "      <td>In stock</td>\n",
       "      <td>Two</td>\n",
       "      <td>classic</td>\n",
       "    </tr>\n",
       "    <tr>\n",
       "      <th>3</th>\n",
       "      <td>The Hound of the ...</td>\n",
       "      <td>In stock</td>\n",
       "      <td>Two</td>\n",
       "      <td>classic</td>\n",
       "    </tr>\n",
       "    <tr>\n",
       "      <th>4</th>\n",
       "      <td>Little Women (Little Women ...</td>\n",
       "      <td>In stock</td>\n",
       "      <td>Four</td>\n",
       "      <td>classic</td>\n",
       "    </tr>\n",
       "    <tr>\n",
       "      <th>5</th>\n",
       "      <td>Gone with the Wind</td>\n",
       "      <td>In stock</td>\n",
       "      <td>Three</td>\n",
       "      <td>classic</td>\n",
       "    </tr>\n",
       "    <tr>\n",
       "      <th>6</th>\n",
       "      <td>Candide</td>\n",
       "      <td>In stock</td>\n",
       "      <td>Three</td>\n",
       "      <td>classic</td>\n",
       "    </tr>\n",
       "    <tr>\n",
       "      <th>7</th>\n",
       "      <td>Animal Farm</td>\n",
       "      <td>In stock</td>\n",
       "      <td>Three</td>\n",
       "      <td>classic</td>\n",
       "    </tr>\n",
       "    <tr>\n",
       "      <th>8</th>\n",
       "      <td>Wuthering Heights</td>\n",
       "      <td>In stock</td>\n",
       "      <td>Three</td>\n",
       "      <td>classic</td>\n",
       "    </tr>\n",
       "    <tr>\n",
       "      <th>9</th>\n",
       "      <td>The Picture of Dorian ...</td>\n",
       "      <td>In stock</td>\n",
       "      <td>Two</td>\n",
       "      <td>classic</td>\n",
       "    </tr>\n",
       "    <tr>\n",
       "      <th>10</th>\n",
       "      <td>The Complete Stories and ...</td>\n",
       "      <td>In stock</td>\n",
       "      <td>Four</td>\n",
       "      <td>classic</td>\n",
       "    </tr>\n",
       "    <tr>\n",
       "      <th>11</th>\n",
       "      <td>Beowulf</td>\n",
       "      <td>In stock</td>\n",
       "      <td>Two</td>\n",
       "      <td>classic</td>\n",
       "    </tr>\n",
       "    <tr>\n",
       "      <th>12</th>\n",
       "      <td>And Then There Were ...</td>\n",
       "      <td>In stock</td>\n",
       "      <td>Two</td>\n",
       "      <td>classic</td>\n",
       "    </tr>\n",
       "    <tr>\n",
       "      <th>13</th>\n",
       "      <td>The Story of Hong ...</td>\n",
       "      <td>In stock</td>\n",
       "      <td>Four</td>\n",
       "      <td>classic</td>\n",
       "    </tr>\n",
       "    <tr>\n",
       "      <th>14</th>\n",
       "      <td>The Little Prince</td>\n",
       "      <td>In stock</td>\n",
       "      <td>Two</td>\n",
       "      <td>classic</td>\n",
       "    </tr>\n",
       "    <tr>\n",
       "      <th>15</th>\n",
       "      <td>Sense and Sensibility</td>\n",
       "      <td>In stock</td>\n",
       "      <td>One</td>\n",
       "      <td>classic</td>\n",
       "    </tr>\n",
       "    <tr>\n",
       "      <th>16</th>\n",
       "      <td>Of Mice and Men</td>\n",
       "      <td>In stock</td>\n",
       "      <td>Two</td>\n",
       "      <td>classic</td>\n",
       "    </tr>\n",
       "    <tr>\n",
       "      <th>17</th>\n",
       "      <td>Emma</td>\n",
       "      <td>In stock</td>\n",
       "      <td>Two</td>\n",
       "      <td>classic</td>\n",
       "    </tr>\n",
       "    <tr>\n",
       "      <th>18</th>\n",
       "      <td>Alice in Wonderland (Alice's ...</td>\n",
       "      <td>In stock</td>\n",
       "      <td>One</td>\n",
       "      <td>classic</td>\n",
       "    </tr>\n",
       "    <tr>\n",
       "      <th>19</th>\n",
       "      <td>Mesaerion: The Best Science ...</td>\n",
       "      <td>In stock</td>\n",
       "      <td>One</td>\n",
       "      <td>science_fiction</td>\n",
       "    </tr>\n",
       "    <tr>\n",
       "      <th>20</th>\n",
       "      <td>Join</td>\n",
       "      <td>In stock</td>\n",
       "      <td>Five</td>\n",
       "      <td>science_fiction</td>\n",
       "    </tr>\n",
       "    <tr>\n",
       "      <th>21</th>\n",
       "      <td>William Shakespeare's Star Wars: ...</td>\n",
       "      <td>In stock</td>\n",
       "      <td>Four</td>\n",
       "      <td>science_fiction</td>\n",
       "    </tr>\n",
       "    <tr>\n",
       "      <th>22</th>\n",
       "      <td>The Project</td>\n",
       "      <td>In stock</td>\n",
       "      <td>One</td>\n",
       "      <td>science_fiction</td>\n",
       "    </tr>\n",
       "    <tr>\n",
       "      <th>23</th>\n",
       "      <td>Soft Apocalypse</td>\n",
       "      <td>In stock</td>\n",
       "      <td>Two</td>\n",
       "      <td>science_fiction</td>\n",
       "    </tr>\n",
       "    <tr>\n",
       "      <th>24</th>\n",
       "      <td>Sleeping Giants (Themis Files ...</td>\n",
       "      <td>In stock</td>\n",
       "      <td>One</td>\n",
       "      <td>science_fiction</td>\n",
       "    </tr>\n",
       "    <tr>\n",
       "      <th>25</th>\n",
       "      <td>Arena</td>\n",
       "      <td>In stock</td>\n",
       "      <td>Four</td>\n",
       "      <td>science_fiction</td>\n",
       "    </tr>\n",
       "    <tr>\n",
       "      <th>26</th>\n",
       "      <td>Foundation (Foundation (Publication Order) ...</td>\n",
       "      <td>In stock</td>\n",
       "      <td>One</td>\n",
       "      <td>science_fiction</td>\n",
       "    </tr>\n",
       "    <tr>\n",
       "      <th>27</th>\n",
       "      <td>The Restaurant at the ...</td>\n",
       "      <td>In stock</td>\n",
       "      <td>One</td>\n",
       "      <td>science_fiction</td>\n",
       "    </tr>\n",
       "    <tr>\n",
       "      <th>28</th>\n",
       "      <td>Ready Player One</td>\n",
       "      <td>In stock</td>\n",
       "      <td>Four</td>\n",
       "      <td>science_fiction</td>\n",
       "    </tr>\n",
       "    <tr>\n",
       "      <th>29</th>\n",
       "      <td>Life, the Universe and ...</td>\n",
       "      <td>In stock</td>\n",
       "      <td>Two</td>\n",
       "      <td>science_fiction</td>\n",
       "    </tr>\n",
       "    <tr>\n",
       "      <th>30</th>\n",
       "      <td>Dune (Dune #1)</td>\n",
       "      <td>In stock</td>\n",
       "      <td>One</td>\n",
       "      <td>science_fiction</td>\n",
       "    </tr>\n",
       "    <tr>\n",
       "      <th>31</th>\n",
       "      <td>Do Androids Dream of ...</td>\n",
       "      <td>In stock</td>\n",
       "      <td>One</td>\n",
       "      <td>science_fiction</td>\n",
       "    </tr>\n",
       "    <tr>\n",
       "      <th>32</th>\n",
       "      <td>Three Wishes (River of ...</td>\n",
       "      <td>In stock</td>\n",
       "      <td>Two</td>\n",
       "      <td>science_fiction</td>\n",
       "    </tr>\n",
       "    <tr>\n",
       "      <th>33</th>\n",
       "      <td>The Last Girl (The ...</td>\n",
       "      <td>In stock</td>\n",
       "      <td>Two</td>\n",
       "      <td>science_fiction</td>\n",
       "    </tr>\n",
       "    <tr>\n",
       "      <th>34</th>\n",
       "      <td>Having the Barbarian's Baby ...</td>\n",
       "      <td>In stock</td>\n",
       "      <td>Four</td>\n",
       "      <td>science_fiction</td>\n",
       "    </tr>\n",
       "    <tr>\n",
       "      <th>35</th>\n",
       "      <td>The Long Haul (Diary ...</td>\n",
       "      <td>In stock</td>\n",
       "      <td>One</td>\n",
       "      <td>humor</td>\n",
       "    </tr>\n",
       "    <tr>\n",
       "      <th>36</th>\n",
       "      <td>Old School (Diary of ...</td>\n",
       "      <td>In stock</td>\n",
       "      <td>Five</td>\n",
       "      <td>humor</td>\n",
       "    </tr>\n",
       "    <tr>\n",
       "      <th>37</th>\n",
       "      <td>I Know What I'm ...</td>\n",
       "      <td>In stock</td>\n",
       "      <td>Four</td>\n",
       "      <td>humor</td>\n",
       "    </tr>\n",
       "    <tr>\n",
       "      <th>38</th>\n",
       "      <td>Hyperbole and a Half: ...</td>\n",
       "      <td>In stock</td>\n",
       "      <td>Five</td>\n",
       "      <td>humor</td>\n",
       "    </tr>\n",
       "    <tr>\n",
       "      <th>39</th>\n",
       "      <td>Dress Your Family in ...</td>\n",
       "      <td>In stock</td>\n",
       "      <td>Three</td>\n",
       "      <td>humor</td>\n",
       "    </tr>\n",
       "    <tr>\n",
       "      <th>40</th>\n",
       "      <td>Toddlers Are A**holes: It's ...</td>\n",
       "      <td>In stock</td>\n",
       "      <td>One</td>\n",
       "      <td>humor</td>\n",
       "    </tr>\n",
       "    <tr>\n",
       "      <th>41</th>\n",
       "      <td>When You Are Engulfed ...</td>\n",
       "      <td>In stock</td>\n",
       "      <td>Five</td>\n",
       "      <td>humor</td>\n",
       "    </tr>\n",
       "    <tr>\n",
       "      <th>42</th>\n",
       "      <td>Naked</td>\n",
       "      <td>In stock</td>\n",
       "      <td>Three</td>\n",
       "      <td>humor</td>\n",
       "    </tr>\n",
       "    <tr>\n",
       "      <th>43</th>\n",
       "      <td>Lamb: The Gospel According ...</td>\n",
       "      <td>In stock</td>\n",
       "      <td>Five</td>\n",
       "      <td>humor</td>\n",
       "    </tr>\n",
       "    <tr>\n",
       "      <th>44</th>\n",
       "      <td>Holidays on Ice</td>\n",
       "      <td>In stock</td>\n",
       "      <td>Two</td>\n",
       "      <td>humor</td>\n",
       "    </tr>\n",
       "    <tr>\n",
       "      <th>45</th>\n",
       "      <td>The Dirty Little Secrets ...</td>\n",
       "      <td>In stock</td>\n",
       "      <td>Four</td>\n",
       "      <td>business</td>\n",
       "    </tr>\n",
       "    <tr>\n",
       "      <th>46</th>\n",
       "      <td>The Third Wave: An ...</td>\n",
       "      <td>In stock</td>\n",
       "      <td>Five</td>\n",
       "      <td>business</td>\n",
       "    </tr>\n",
       "    <tr>\n",
       "      <th>47</th>\n",
       "      <td>The 10% Entrepreneur: Live ...</td>\n",
       "      <td>In stock</td>\n",
       "      <td>Three</td>\n",
       "      <td>business</td>\n",
       "    </tr>\n",
       "    <tr>\n",
       "      <th>48</th>\n",
       "      <td>Shoe Dog: A Memoir ...</td>\n",
       "      <td>In stock</td>\n",
       "      <td>Two</td>\n",
       "      <td>business</td>\n",
       "    </tr>\n",
       "    <tr>\n",
       "      <th>49</th>\n",
       "      <td>Made to Stick: Why ...</td>\n",
       "      <td>In stock</td>\n",
       "      <td>Five</td>\n",
       "      <td>business</td>\n",
       "    </tr>\n",
       "    <tr>\n",
       "      <th>50</th>\n",
       "      <td>Quench Your Own Thirst: ...</td>\n",
       "      <td>In stock</td>\n",
       "      <td>One</td>\n",
       "      <td>business</td>\n",
       "    </tr>\n",
       "    <tr>\n",
       "      <th>51</th>\n",
       "      <td>The Art of Startup ...</td>\n",
       "      <td>In stock</td>\n",
       "      <td>Three</td>\n",
       "      <td>business</td>\n",
       "    </tr>\n",
       "    <tr>\n",
       "      <th>52</th>\n",
       "      <td>Born for This: How ...</td>\n",
       "      <td>In stock</td>\n",
       "      <td>Five</td>\n",
       "      <td>business</td>\n",
       "    </tr>\n",
       "    <tr>\n",
       "      <th>53</th>\n",
       "      <td>The E-Myth Revisited: Why ...</td>\n",
       "      <td>In stock</td>\n",
       "      <td>One</td>\n",
       "      <td>business</td>\n",
       "    </tr>\n",
       "    <tr>\n",
       "      <th>54</th>\n",
       "      <td>Rich Dad, Poor Dad</td>\n",
       "      <td>In stock</td>\n",
       "      <td>One</td>\n",
       "      <td>business</td>\n",
       "    </tr>\n",
       "    <tr>\n",
       "      <th>55</th>\n",
       "      <td>The Lean Startup: How ...</td>\n",
       "      <td>In stock</td>\n",
       "      <td>Three</td>\n",
       "      <td>business</td>\n",
       "    </tr>\n",
       "    <tr>\n",
       "      <th>56</th>\n",
       "      <td>Rework</td>\n",
       "      <td>In stock</td>\n",
       "      <td>Two</td>\n",
       "      <td>business</td>\n",
       "    </tr>\n",
       "  </tbody>\n",
       "</table>\n",
       "</div>"
      ],
      "text/plain": [
       "                                      product_name     product_stock  \\\n",
       "0                                The Secret Garden          In stock   \n",
       "1                                The Metamorphosis          In stock   \n",
       "2                           The Pilgrim's Progress          In stock   \n",
       "3                             The Hound of the ...          In stock   \n",
       "4                   Little Women (Little Women ...          In stock   \n",
       "5                               Gone with the Wind          In stock   \n",
       "6                                          Candide          In stock   \n",
       "7                                      Animal Farm          In stock   \n",
       "8                                Wuthering Heights          In stock   \n",
       "9                        The Picture of Dorian ...          In stock   \n",
       "10                    The Complete Stories and ...          In stock   \n",
       "11                                         Beowulf          In stock   \n",
       "12                         And Then There Were ...          In stock   \n",
       "13                           The Story of Hong ...          In stock   \n",
       "14                               The Little Prince          In stock   \n",
       "15                           Sense and Sensibility          In stock   \n",
       "16                                 Of Mice and Men          In stock   \n",
       "17                                            Emma          In stock   \n",
       "18                Alice in Wonderland (Alice's ...          In stock   \n",
       "19                 Mesaerion: The Best Science ...          In stock   \n",
       "20                                            Join          In stock   \n",
       "21            William Shakespeare's Star Wars: ...          In stock   \n",
       "22                                     The Project          In stock   \n",
       "23                                 Soft Apocalypse          In stock   \n",
       "24               Sleeping Giants (Themis Files ...          In stock   \n",
       "25                                           Arena          In stock   \n",
       "26  Foundation (Foundation (Publication Order) ...          In stock   \n",
       "27                       The Restaurant at the ...          In stock   \n",
       "28                                Ready Player One          In stock   \n",
       "29                      Life, the Universe and ...          In stock   \n",
       "30                                  Dune (Dune #1)          In stock   \n",
       "31                        Do Androids Dream of ...          In stock   \n",
       "32                      Three Wishes (River of ...          In stock   \n",
       "33                          The Last Girl (The ...          In stock   \n",
       "34                 Having the Barbarian's Baby ...          In stock   \n",
       "35                        The Long Haul (Diary ...          In stock   \n",
       "36                        Old School (Diary of ...          In stock   \n",
       "37                             I Know What I'm ...          In stock   \n",
       "38                       Hyperbole and a Half: ...          In stock   \n",
       "39                        Dress Your Family in ...          In stock   \n",
       "40                 Toddlers Are A**holes: It's ...          In stock   \n",
       "41                       When You Are Engulfed ...          In stock   \n",
       "42                                           Naked          In stock   \n",
       "43                  Lamb: The Gospel According ...          In stock   \n",
       "44                                 Holidays on Ice          In stock   \n",
       "45                    The Dirty Little Secrets ...          In stock   \n",
       "46                          The Third Wave: An ...          In stock   \n",
       "47                  The 10% Entrepreneur: Live ...          In stock   \n",
       "48                          Shoe Dog: A Memoir ...          In stock   \n",
       "49                          Made to Stick: Why ...          In stock   \n",
       "50                     Quench Your Own Thirst: ...          In stock   \n",
       "51                          The Art of Startup ...          In stock   \n",
       "52                          Born for This: How ...          In stock   \n",
       "53                   The E-Myth Revisited: Why ...          In stock   \n",
       "54                              Rich Dad, Poor Dad          In stock   \n",
       "55                       The Lean Startup: How ...          In stock   \n",
       "56                                          Rework          In stock   \n",
       "\n",
       "   product_star   product_catalog  \n",
       "0          Four           classic  \n",
       "1           One           classic  \n",
       "2           Two           classic  \n",
       "3           Two           classic  \n",
       "4          Four           classic  \n",
       "5         Three           classic  \n",
       "6         Three           classic  \n",
       "7         Three           classic  \n",
       "8         Three           classic  \n",
       "9           Two           classic  \n",
       "10         Four           classic  \n",
       "11          Two           classic  \n",
       "12          Two           classic  \n",
       "13         Four           classic  \n",
       "14          Two           classic  \n",
       "15          One           classic  \n",
       "16          Two           classic  \n",
       "17          Two           classic  \n",
       "18          One           classic  \n",
       "19          One  science_fiction   \n",
       "20         Five  science_fiction   \n",
       "21         Four  science_fiction   \n",
       "22          One  science_fiction   \n",
       "23          Two  science_fiction   \n",
       "24          One  science_fiction   \n",
       "25         Four  science_fiction   \n",
       "26          One  science_fiction   \n",
       "27          One  science_fiction   \n",
       "28         Four  science_fiction   \n",
       "29          Two  science_fiction   \n",
       "30          One  science_fiction   \n",
       "31          One  science_fiction   \n",
       "32          Two  science_fiction   \n",
       "33          Two  science_fiction   \n",
       "34         Four  science_fiction   \n",
       "35          One            humor   \n",
       "36         Five            humor   \n",
       "37         Four            humor   \n",
       "38         Five            humor   \n",
       "39        Three            humor   \n",
       "40          One            humor   \n",
       "41         Five            humor   \n",
       "42        Three            humor   \n",
       "43         Five            humor   \n",
       "44          Two            humor   \n",
       "45         Four         business   \n",
       "46         Five         business   \n",
       "47        Three         business   \n",
       "48          Two         business   \n",
       "49         Five         business   \n",
       "50          One         business   \n",
       "51        Three         business   \n",
       "52         Five         business   \n",
       "53          One         business   \n",
       "54          One         business   \n",
       "55        Three         business   \n",
       "56          Two         business   "
      ]
     },
     "execution_count": 57,
     "metadata": {},
     "output_type": "execute_result"
    }
   ],
   "source": [
    "# Selecting columns that contain only categorical data: int and float\n",
    "cat_attributes = df1.select_dtypes(exclude=['int64','float64','datetime64[ns]'])\n",
    "cat_attributes"
   ]
  },
  {
   "cell_type": "markdown",
   "id": "2c787b6b",
   "metadata": {},
   "source": [
    "### 1.4.1 Numerical Attributes"
   ]
  },
  {
   "cell_type": "code",
   "execution_count": 58,
   "id": "22fd1ac0",
   "metadata": {},
   "outputs": [],
   "source": [
    "# Tendência central: como os dados estão :\n",
    "\n",
    "# Média\n",
    "t1 = pd.DataFrame(num_attributes.apply(np.mean)).T\n",
    "\n",
    "# Mediana\n",
    "t2= pd.DataFrame(num_attributes.apply(np.median)).T"
   ]
  },
  {
   "cell_type": "code",
   "execution_count": 59,
   "id": "72c5dcbf",
   "metadata": {},
   "outputs": [],
   "source": [
    "# Dispersão: std, min, max, range, skew(assimetria), kurtosis(calda longa)\n",
    "\n",
    "d1 = pd.DataFrame(num_attributes.apply(np.std)).T\n",
    "\n",
    "d2 = pd.DataFrame(num_attributes.apply(np.min)).T\n",
    "\n",
    "d3 = pd.DataFrame(num_attributes.apply(np.max)).T\n",
    "\n",
    "d4 = pd.DataFrame(num_attributes.apply(lambda x: x.max() - x.min())).T\n",
    "\n",
    "d5 = pd.DataFrame(num_attributes.apply(lambda x: x.skew())).T\n",
    "\n",
    "d6 = pd.DataFrame(num_attributes.apply(lambda x: x.kurtosis())).T"
   ]
  },
  {
   "cell_type": "code",
   "execution_count": 60,
   "id": "1ad9c751",
   "metadata": {},
   "outputs": [
    {
     "data": {
      "text/html": [
       "<div>\n",
       "<style scoped>\n",
       "    .dataframe tbody tr th:only-of-type {\n",
       "        vertical-align: middle;\n",
       "    }\n",
       "\n",
       "    .dataframe tbody tr th {\n",
       "        vertical-align: top;\n",
       "    }\n",
       "\n",
       "    .dataframe thead th {\n",
       "        text-align: right;\n",
       "    }\n",
       "</style>\n",
       "<table border=\"1\" class=\"dataframe\">\n",
       "  <thead>\n",
       "    <tr style=\"text-align: right;\">\n",
       "      <th></th>\n",
       "      <th>attributes</th>\n",
       "      <th>min</th>\n",
       "      <th>max</th>\n",
       "      <th>range</th>\n",
       "      <th>mean</th>\n",
       "      <th>median</th>\n",
       "      <th>std</th>\n",
       "      <th>skew</th>\n",
       "      <th>kurtosis</th>\n",
       "    </tr>\n",
       "  </thead>\n",
       "  <tbody>\n",
       "    <tr>\n",
       "      <th>0</th>\n",
       "      <td>product_price</td>\n",
       "      <td>10.65</td>\n",
       "      <td>58.63</td>\n",
       "      <td>47.98</td>\n",
       "      <td>34.381228</td>\n",
       "      <td>33.92</td>\n",
       "      <td>12.938244</td>\n",
       "      <td>-0.037975</td>\n",
       "      <td>-0.810083</td>\n",
       "    </tr>\n",
       "  </tbody>\n",
       "</table>\n",
       "</div>"
      ],
      "text/plain": [
       "      attributes    min    max  range       mean  median        std      skew  \\\n",
       "0  product_price  10.65  58.63  47.98  34.381228   33.92  12.938244 -0.037975   \n",
       "\n",
       "   kurtosis  \n",
       "0 -0.810083  "
      ]
     },
     "execution_count": 60,
     "metadata": {},
     "output_type": "execute_result"
    }
   ],
   "source": [
    "# concat\n",
    "\n",
    "m1 = pd.concat([d2, d3, d4, t1, t2, d1, d5, d6]).T.reset_index()\n",
    "m1.columns = ['attributes','min','max','range','mean','median','std','skew','kurtosis']\n",
    "m1"
   ]
  },
  {
   "cell_type": "code",
   "execution_count": 61,
   "id": "18a9f28a",
   "metadata": {},
   "outputs": [
    {
     "name": "stderr",
     "output_type": "stream",
     "text": [
      "C:\\Users\\Utilizador\\anaconda3\\lib\\site-packages\\seaborn\\distributions.py:2619: FutureWarning: `distplot` is a deprecated function and will be removed in a future version. Please adapt your code to use either `displot` (a figure-level function with similar flexibility) or `histplot` (an axes-level function for histograms).\n",
      "  warnings.warn(msg, FutureWarning)\n"
     ]
    },
    {
     "data": {
      "image/png": "[encoded data removed]",
      "text/plain": [
       "<Figure size 432x288 with 1 Axes>"
      ]
     },
     "metadata": {
      "needs_background": "light"
     },
     "output_type": "display_data"
    }
   ],
   "source": [
    "sns.distplot(df1['product_price']);"
   ]
  },
  {
   "cell_type": "code",
   "execution_count": 62,
   "id": "10416077",
   "metadata": {},
   "outputs": [
    {
     "data": {
      "image/png": "[encoded data removed]",
      "text/plain": [
       "<Figure size 360x360 with 1 Axes>"
      ]
     },
     "metadata": {
      "needs_background": "light"
     },
     "output_type": "display_data"
    }
   ],
   "source": [
    "sns.displot(df1['product_price']);"
   ]
  },
  {
   "cell_type": "markdown",
   "id": "2833b469",
   "metadata": {},
   "source": [
    "### 1.4.2 Categorical Attributes"
   ]
  },
  {
   "cell_type": "code",
   "execution_count": 63,
   "id": "bd375b10",
   "metadata": {},
   "outputs": [
    {
     "data": {
      "text/plain": [
       "product_name       57\n",
       "product_stock       1\n",
       "product_star        5\n",
       "product_catalog     4\n",
       "dtype: int64"
      ]
     },
     "execution_count": 63,
     "metadata": {},
     "output_type": "execute_result"
    }
   ],
   "source": [
    "cat_attributes.apply(lambda x: x.unique().shape[0])"
   ]
  },
  {
   "cell_type": "code",
   "execution_count": 64,
   "id": "214f2667",
   "metadata": {},
   "outputs": [
    {
     "data": {
      "image/png": "[encoded data removed]",
      "text/plain": [
       "<Figure size 432x288 with 3 Axes>"
      ]
     },
     "metadata": {
      "needs_background": "light"
     },
     "output_type": "display_data"
    }
   ],
   "source": [
    "plt.subplot(1,3,1)\n",
    "sns.boxplot(x='product_stock', y='product_price', data=df1)\n",
    "\n",
    "plt.subplot(1,3,2)\n",
    "sns.boxplot(x='product_star', y='product_price', data=df1)\n",
    "\n",
    "plt.subplot(1,3,3)\n",
    "sns.boxplot(x='product_catalog', y='product_price', data=df1);"
   ]
  },
  {
   "cell_type": "markdown",
   "id": "19926ee6",
   "metadata": {},
   "source": [
    "## 2.0 Feature Engineering"
   ]
  },
  {
   "cell_type": "code",
   "execution_count": 65,
   "id": "2eedd0de",
   "metadata": {},
   "outputs": [],
   "source": [
    "df2 = df1.copy()"
   ]
  },
  {
   "cell_type": "markdown",
   "id": "db92613a",
   "metadata": {},
   "source": [
    "### 2.1 Hypothesis Creation"
   ]
  },
  {
   "cell_type": "markdown",
   "id": "3d83fe97",
   "metadata": {},
   "source": [
    "1. Livros clássicos deveriam ter maior número de estrelas\n",
    "2. Livros clássicos deveriam ter maior maior preço\n",
    "\n",
    "3. Livros de ficção científica deveriam ter menor número de estrelas\n",
    "4. Livros de ficção cinetífica deverriam ter mennor preço\n",
    "\n",
    "3. Livros de humor deveriam ter número de estrelas médio\n",
    "4. Livros de humor deveriam ter preço médio\n",
    "\n",
    "5. Livros de negócios deveriam ter número de estrelas menor que a média\n",
    "6. Livros de negócios deveriam ter preço médio que a média"
   ]
  },
  {
   "cell_type": "markdown",
   "id": "b19ed58f",
   "metadata": {},
   "source": [
    "## 3.0 EXPLORATORY DATA ANALYSIS"
   ]
  },
  {
   "cell_type": "markdown",
   "id": "b0c3fd60",
   "metadata": {},
   "source": [
    "### 3.1 Univariate Analysis"
   ]
  },
  {
   "cell_type": "markdown",
   "id": "c0e3df4d",
   "metadata": {},
   "source": [
    "#### 3.1.1 Variable Analysis Answer"
   ]
  },
  {
   "cell_type": "code",
   "execution_count": 66,
   "id": "719022cb",
   "metadata": {},
   "outputs": [
    {
     "name": "stderr",
     "output_type": "stream",
     "text": [
      "C:\\Users\\Utilizador\\anaconda3\\lib\\site-packages\\seaborn\\distributions.py:2619: FutureWarning: `distplot` is a deprecated function and will be removed in a future version. Please adapt your code to use either `displot` (a figure-level function with similar flexibility) or `histplot` (an axes-level function for histograms).\n",
      "  warnings.warn(msg, FutureWarning)\n"
     ]
    },
    {
     "data": {
      "image/png": "[encoded data removed]",
      "text/plain": [
       "<Figure size 432x288 with 1 Axes>"
      ]
     },
     "metadata": {
      "needs_background": "light"
     },
     "output_type": "display_data"
    }
   ],
   "source": [
    "sns.distplot(df2['product_price']);"
   ]
  },
  {
   "cell_type": "code",
   "execution_count": 67,
   "id": "e63430d3",
   "metadata": {},
   "outputs": [
    {
     "name": "stderr",
     "output_type": "stream",
     "text": [
      "C:\\Users\\Utilizador\\anaconda3\\lib\\site-packages\\seaborn\\distributions.py:2619: FutureWarning: `distplot` is a deprecated function and will be removed in a future version. Please adapt your code to use either `displot` (a figure-level function with similar flexibility) or `histplot` (an axes-level function for histograms).\n",
      "  warnings.warn(msg, FutureWarning)\n"
     ]
    },
    {
     "data": {
      "image/png": "[encoded data removed]",
      "text/plain": [
       "<Figure size 432x288 with 1 Axes>"
      ]
     },
     "metadata": {
      "needs_background": "light"
     },
     "output_type": "display_data"
    }
   ],
   "source": [
    "sns.distplot(np.log1p(df2['product_price']));"
   ]
  },
  {
   "cell_type": "markdown",
   "id": "436cefd8",
   "metadata": {},
   "source": [
    "#### 3.1.2 Numerical Variable Analysis"
   ]
  },
  {
   "cell_type": "code",
   "execution_count": 68,
   "id": "8fe6a190",
   "metadata": {},
   "outputs": [
    {
     "data": {
      "image/png": "[encoded data removed]",
      "text/plain": [
       "<Figure size 432x288 with 1 Axes>"
      ]
     },
     "metadata": {
      "needs_background": "light"
     },
     "output_type": "display_data"
    }
   ],
   "source": [
    "num_attributes.hist();"
   ]
  },
  {
   "cell_type": "markdown",
   "id": "2f733118",
   "metadata": {},
   "source": [
    "#### 3.1.3 Categorical Variable Analysis"
   ]
  },
  {
   "cell_type": "code",
   "execution_count": 69,
   "id": "5c7b6906",
   "metadata": {},
   "outputs": [
    {
     "data": {
      "text/html": [
       "<div>\n",
       "<style scoped>\n",
       "    .dataframe tbody tr th:only-of-type {\n",
       "        vertical-align: middle;\n",
       "    }\n",
       "\n",
       "    .dataframe tbody tr th {\n",
       "        vertical-align: top;\n",
       "    }\n",
       "\n",
       "    .dataframe thead th {\n",
       "        text-align: right;\n",
       "    }\n",
       "</style>\n",
       "<table border=\"1\" class=\"dataframe\">\n",
       "  <thead>\n",
       "    <tr style=\"text-align: right;\">\n",
       "      <th></th>\n",
       "      <th>product_name</th>\n",
       "      <th>product_stock</th>\n",
       "      <th>product_star</th>\n",
       "      <th>product_catalog</th>\n",
       "    </tr>\n",
       "  </thead>\n",
       "  <tbody>\n",
       "    <tr>\n",
       "      <th>0</th>\n",
       "      <td>The Secret Garden</td>\n",
       "      <td>In stock</td>\n",
       "      <td>Four</td>\n",
       "      <td>classic</td>\n",
       "    </tr>\n",
       "    <tr>\n",
       "      <th>1</th>\n",
       "      <td>The Metamorphosis</td>\n",
       "      <td>In stock</td>\n",
       "      <td>One</td>\n",
       "      <td>classic</td>\n",
       "    </tr>\n",
       "    <tr>\n",
       "      <th>2</th>\n",
       "      <td>The Pilgrim's Progress</td>\n",
       "      <td>In stock</td>\n",
       "      <td>Two</td>\n",
       "      <td>classic</td>\n",
       "    </tr>\n",
       "    <tr>\n",
       "      <th>3</th>\n",
       "      <td>The Hound of the ...</td>\n",
       "      <td>In stock</td>\n",
       "      <td>Two</td>\n",
       "      <td>classic</td>\n",
       "    </tr>\n",
       "    <tr>\n",
       "      <th>4</th>\n",
       "      <td>Little Women (Little Women ...</td>\n",
       "      <td>In stock</td>\n",
       "      <td>Four</td>\n",
       "      <td>classic</td>\n",
       "    </tr>\n",
       "  </tbody>\n",
       "</table>\n",
       "</div>"
      ],
      "text/plain": [
       "                     product_name     product_stock product_star  \\\n",
       "0               The Secret Garden          In stock         Four   \n",
       "1               The Metamorphosis          In stock          One   \n",
       "2          The Pilgrim's Progress          In stock          Two   \n",
       "3            The Hound of the ...          In stock          Two   \n",
       "4  Little Women (Little Women ...          In stock         Four   \n",
       "\n",
       "  product_catalog  \n",
       "0         classic  \n",
       "1         classic  \n",
       "2         classic  \n",
       "3         classic  \n",
       "4         classic  "
      ]
     },
     "execution_count": 69,
     "metadata": {},
     "output_type": "execute_result"
    }
   ],
   "source": [
    "cat_attributes.head()"
   ]
  },
  {
   "cell_type": "markdown",
   "id": "9a321fc4",
   "metadata": {},
   "source": [
    "## product_catalog"
   ]
  },
  {
   "cell_type": "code",
   "execution_count": 70,
   "id": "03969674",
   "metadata": {},
   "outputs": [
    {
     "name": "stderr",
     "output_type": "stream",
     "text": [
      "C:\\Users\\Utilizador\\anaconda3\\lib\\site-packages\\seaborn\\_decorators.py:36: FutureWarning: Pass the following variable as a keyword arg: x. From version 0.12, the only valid positional argument will be `data`, and passing other arguments without an explicit keyword will result in an error or misinterpretation.\n",
      "  warnings.warn(\n"
     ]
    },
    {
     "data": {
      "text/plain": [
       "<AxesSubplot:xlabel='product_catalog', ylabel='count'>"
      ]
     },
     "execution_count": 70,
     "metadata": {},
     "output_type": "execute_result"
    },
    {
     "data": {
      "image/png": "[encoded data removed]",
      "text/plain": [
       "<Figure size 432x288 with 1 Axes>"
      ]
     },
     "metadata": {
      "needs_background": "light"
     },
     "output_type": "display_data"
    }
   ],
   "source": [
    "sns.countplot(df2['product_catalog'])"
   ]
  },
  {
   "cell_type": "code",
   "execution_count": 71,
   "id": "46be5901",
   "metadata": {},
   "outputs": [
    {
     "name": "stderr",
     "output_type": "stream",
     "text": [
      "C:\\Users\\Utilizador\\anaconda3\\lib\\site-packages\\seaborn\\_decorators.py:36: FutureWarning: Pass the following variable as a keyword arg: x. From version 0.12, the only valid positional argument will be `data`, and passing other arguments without an explicit keyword will result in an error or misinterpretation.\n",
      "  warnings.warn(\n"
     ]
    },
    {
     "data": {
      "text/plain": [
       "<AxesSubplot:xlabel='product_price', ylabel='Density'>"
      ]
     },
     "execution_count": 71,
     "metadata": {},
     "output_type": "execute_result"
    },
    {
     "data": {
      "image/png": "[encoded data removed]",
      "text/plain": [
       "<Figure size 432x288 with 2 Axes>"
      ]
     },
     "metadata": {
      "needs_background": "light"
     },
     "output_type": "display_data"
    }
   ],
   "source": [
    "plt.subplot(1,2,1)\n",
    "sns.countplot(df2['product_catalog'])\n",
    "plt.xticks(rotation=90)\n",
    "\n",
    "\n",
    "plt.subplot(1,2,2)\n",
    "sns.kdeplot(df2[df2['product_catalog'] == 'classic']        ['product_price'], label='classic' ,shade=True)\n",
    "sns.kdeplot(df2[df2['product_catalog'] == 'science_fiction']['product_price'], label='science_fiction' ,shade=True)\n",
    "sns.kdeplot(df2[df2['product_catalog'] == 'humor']          ['product_price'], label='humor' ,shade=True)\n",
    "sns.kdeplot(df2[df2['product_catalog'] == 'business']       ['product_price'], label='business' ,shade=True)"
   ]
  },
  {
   "cell_type": "markdown",
   "id": "4bdc8e9c",
   "metadata": {},
   "source": [
    "## product_star"
   ]
  },
  {
   "cell_type": "code",
   "execution_count": 72,
   "id": "cbf04063",
   "metadata": {},
   "outputs": [
    {
     "name": "stderr",
     "output_type": "stream",
     "text": [
      "C:\\Users\\Utilizador\\anaconda3\\lib\\site-packages\\seaborn\\_decorators.py:36: FutureWarning: Pass the following variable as a keyword arg: x. From version 0.12, the only valid positional argument will be `data`, and passing other arguments without an explicit keyword will result in an error or misinterpretation.\n",
      "  warnings.warn(\n"
     ]
    },
    {
     "data": {
      "text/plain": [
       "<AxesSubplot:xlabel='product_star', ylabel='count'>"
      ]
     },
     "execution_count": 72,
     "metadata": {},
     "output_type": "execute_result"
    },
    {
     "data": {
      "image/png": "[encoded data removed]",
      "text/plain": [
       "<Figure size 432x288 with 1 Axes>"
      ]
     },
     "metadata": {
      "needs_background": "light"
     },
     "output_type": "display_data"
    }
   ],
   "source": [
    "sns.countplot(df2['product_star'])"
   ]
  },
  {
   "cell_type": "code",
   "execution_count": 73,
   "id": "96e6b754",
   "metadata": {},
   "outputs": [
    {
     "name": "stderr",
     "output_type": "stream",
     "text": [
      "C:\\Users\\Utilizador\\anaconda3\\lib\\site-packages\\seaborn\\_decorators.py:36: FutureWarning: Pass the following variable as a keyword arg: x. From version 0.12, the only valid positional argument will be `data`, and passing other arguments without an explicit keyword will result in an error or misinterpretation.\n",
      "  warnings.warn(\n"
     ]
    },
    {
     "data": {
      "text/plain": [
       "<AxesSubplot:xlabel='product_price', ylabel='Density'>"
      ]
     },
     "execution_count": 73,
     "metadata": {},
     "output_type": "execute_result"
    },
    {
     "data": {
      "image/png": "[encoded data removed]",
      "text/plain": [
       "<Figure size 432x288 with 2 Axes>"
      ]
     },
     "metadata": {
      "needs_background": "light"
     },
     "output_type": "display_data"
    }
   ],
   "source": [
    "plt.subplot(1,2,1)\n",
    "sns.countplot(df2['product_star'])\n",
    "plt.xticks(rotation=90)\n",
    "\n",
    "plt.subplot(1,2,2)\n",
    "sns.kdeplot(df2[df2['product_star'] == 'One']['product_price'], label='One' ,shade=True)\n",
    "sns.kdeplot(df2[df2['product_star'] == 'Two']['product_price'], label='Two' ,shade=True)\n",
    "sns.kdeplot(df2[df2['product_star'] == 'Three']['product_price'], label='Three' ,shade=True)\n",
    "sns.kdeplot(df2[df2['product_star'] == 'Four']['product_price'], label='Four' ,shade=True)\n",
    "sns.kdeplot(df2[df2['product_star'] == 'Five']['product_price'], label='Five' ,shade=True)"
   ]
  },
  {
   "cell_type": "markdown",
   "id": "91cb39b9",
   "metadata": {},
   "source": [
    "## 3.2 Bivariate Analysis"
   ]
  },
  {
   "cell_type": "markdown",
   "id": "012c78e1",
   "metadata": {},
   "source": [
    "Hypotheses:\n",
    "\n",
    "    1. Livros clássicos deveriam somar maior valor de preço\n",
    "\n",
    "    2. Livros de ficção científica devriam somar menor valor de preço\n",
    "\n",
    "    3. Livros de humor deveriam ter melhor valor de preço (preço médio)\n",
    "\n",
    "    4. Livros de negócios deveriam ter menor valor de preço que a média\n",
    "    \n",
    "    5. Livros com menos estrelas deveriam ter menor valor de preço\n",
    "    \n",
    "    6. Livros com menos estrelas devereiam somar menor valor de preço\n",
    "    \n",
    "    7. O número de estrelas deveria infuenciar no valor de preço (proporcionalidade direta)\n"
   ]
  },
  {
   "cell_type": "markdown",
   "id": "6e0513c4",
   "metadata": {},
   "source": [
    "## **H1:**Livros clássicos deveriam somar maior valor de preço\n",
    "    True: Livros clássicos somam maior valore de preço"
   ]
  },
  {
   "cell_type": "code",
   "execution_count": 74,
   "id": "4cbca478",
   "metadata": {},
   "outputs": [
    {
     "data": {
      "text/html": [
       "<div>\n",
       "<style scoped>\n",
       "    .dataframe tbody tr th:only-of-type {\n",
       "        vertical-align: middle;\n",
       "    }\n",
       "\n",
       "    .dataframe tbody tr th {\n",
       "        vertical-align: top;\n",
       "    }\n",
       "\n",
       "    .dataframe thead th {\n",
       "        text-align: right;\n",
       "    }\n",
       "</style>\n",
       "<table border=\"1\" class=\"dataframe\">\n",
       "  <thead>\n",
       "    <tr style=\"text-align: right;\">\n",
       "      <th></th>\n",
       "      <th>product_catalog</th>\n",
       "      <th>product_price</th>\n",
       "    </tr>\n",
       "  </thead>\n",
       "  <tbody>\n",
       "    <tr>\n",
       "      <th>0</th>\n",
       "      <td>humor</td>\n",
       "      <td>335.01</td>\n",
       "    </tr>\n",
       "    <tr>\n",
       "      <th>1</th>\n",
       "      <td>business</td>\n",
       "      <td>389.52</td>\n",
       "    </tr>\n",
       "    <tr>\n",
       "      <th>2</th>\n",
       "      <td>science_fiction</td>\n",
       "      <td>540.84</td>\n",
       "    </tr>\n",
       "    <tr>\n",
       "      <th>3</th>\n",
       "      <td>classic</td>\n",
       "      <td>694.36</td>\n",
       "    </tr>\n",
       "  </tbody>\n",
       "</table>\n",
       "</div>"
      ],
      "text/plain": [
       "    product_catalog  product_price\n",
       "0            humor          335.01\n",
       "1         business          389.52\n",
       "2  science_fiction          540.84\n",
       "3           classic         694.36"
      ]
     },
     "execution_count": 74,
     "metadata": {},
     "output_type": "execute_result"
    }
   ],
   "source": [
    "aux1 = df2[['product_catalog', 'product_price']].groupby('product_catalog').sum().sort_values('product_price').reset_index()\n",
    "aux1"
   ]
  },
  {
   "cell_type": "code",
   "execution_count": 75,
   "id": "496d0dae",
   "metadata": {},
   "outputs": [
    {
     "data": {
      "image/png": "[encoded data removed]",
      "text/plain": [
       "<Figure size 432x288 with 1 Axes>"
      ]
     },
     "metadata": {
      "needs_background": "light"
     },
     "output_type": "display_data"
    }
   ],
   "source": [
    "sns.barplot(x='product_catalog', y='product_price', data=aux1);"
   ]
  },
  {
   "cell_type": "markdown",
   "id": "b569449f",
   "metadata": {},
   "source": [
    "## **H2:**  Livros de ficção científica devriam somar menor valor de preço\n",
    "    False: Livros de ficção científica possui maior valor mediano de preço"
   ]
  },
  {
   "cell_type": "code",
   "execution_count": 76,
   "id": "02f2995e",
   "metadata": {},
   "outputs": [
    {
     "data": {
      "text/html": [
       "<div>\n",
       "<style scoped>\n",
       "    .dataframe tbody tr th:only-of-type {\n",
       "        vertical-align: middle;\n",
       "    }\n",
       "\n",
       "    .dataframe tbody tr th {\n",
       "        vertical-align: top;\n",
       "    }\n",
       "\n",
       "    .dataframe thead th {\n",
       "        text-align: right;\n",
       "    }\n",
       "</style>\n",
       "<table border=\"1\" class=\"dataframe\">\n",
       "  <thead>\n",
       "    <tr style=\"text-align: right;\">\n",
       "      <th></th>\n",
       "      <th>product_catalog</th>\n",
       "      <th>product_price</th>\n",
       "    </tr>\n",
       "  </thead>\n",
       "  <tbody>\n",
       "    <tr>\n",
       "      <th>0</th>\n",
       "      <td>humor</td>\n",
       "      <td>31.290</td>\n",
       "    </tr>\n",
       "    <tr>\n",
       "      <th>1</th>\n",
       "      <td>business</td>\n",
       "      <td>33.630</td>\n",
       "    </tr>\n",
       "    <tr>\n",
       "      <th>2</th>\n",
       "      <td>classic</td>\n",
       "      <td>35.010</td>\n",
       "    </tr>\n",
       "    <tr>\n",
       "      <th>3</th>\n",
       "      <td>science_fiction</td>\n",
       "      <td>35.315</td>\n",
       "    </tr>\n",
       "  </tbody>\n",
       "</table>\n",
       "</div>"
      ],
      "text/plain": [
       "    product_catalog  product_price\n",
       "0            humor          31.290\n",
       "1         business          33.630\n",
       "2           classic         35.010\n",
       "3  science_fiction          35.315"
      ]
     },
     "execution_count": 76,
     "metadata": {},
     "output_type": "execute_result"
    }
   ],
   "source": [
    "aux2 = df2[['product_catalog', 'product_price']].groupby('product_catalog').median().sort_values('product_price').reset_index()\n",
    "aux2"
   ]
  },
  {
   "cell_type": "code",
   "execution_count": 77,
   "id": "36e85eb4",
   "metadata": {},
   "outputs": [
    {
     "data": {
      "image/png": "[encoded data removed]",
      "text/plain": [
       "<Figure size 432x288 with 1 Axes>"
      ]
     },
     "metadata": {
      "needs_background": "light"
     },
     "output_type": "display_data"
    }
   ],
   "source": [
    "sns.barplot(x='product_catalog', y='product_price', data=aux2);"
   ]
  },
  {
   "cell_type": "markdown",
   "id": "8484cab7",
   "metadata": {},
   "source": [
    "## **H3:**  de humor deveriam ter melhor valor de preço (preço médio)\n",
    "    False: Livros de humor possuem o segundo melhor valor de preço médio"
   ]
  },
  {
   "cell_type": "code",
   "execution_count": 78,
   "id": "60b3dcf1",
   "metadata": {},
   "outputs": [
    {
     "data": {
      "text/html": [
       "<div>\n",
       "<style scoped>\n",
       "    .dataframe tbody tr th:only-of-type {\n",
       "        vertical-align: middle;\n",
       "    }\n",
       "\n",
       "    .dataframe tbody tr th {\n",
       "        vertical-align: top;\n",
       "    }\n",
       "\n",
       "    .dataframe thead th {\n",
       "        text-align: right;\n",
       "    }\n",
       "</style>\n",
       "<table border=\"1\" class=\"dataframe\">\n",
       "  <thead>\n",
       "    <tr style=\"text-align: right;\">\n",
       "      <th></th>\n",
       "      <th>product_catalog</th>\n",
       "      <th>product_price</th>\n",
       "    </tr>\n",
       "  </thead>\n",
       "  <tbody>\n",
       "    <tr>\n",
       "      <th>0</th>\n",
       "      <td>business</td>\n",
       "      <td>32.460000</td>\n",
       "    </tr>\n",
       "    <tr>\n",
       "      <th>1</th>\n",
       "      <td>humor</td>\n",
       "      <td>33.501000</td>\n",
       "    </tr>\n",
       "    <tr>\n",
       "      <th>2</th>\n",
       "      <td>science_fiction</td>\n",
       "      <td>33.802500</td>\n",
       "    </tr>\n",
       "    <tr>\n",
       "      <th>3</th>\n",
       "      <td>classic</td>\n",
       "      <td>36.545263</td>\n",
       "    </tr>\n",
       "  </tbody>\n",
       "</table>\n",
       "</div>"
      ],
      "text/plain": [
       "    product_catalog  product_price\n",
       "0         business       32.460000\n",
       "1            humor       33.501000\n",
       "2  science_fiction       33.802500\n",
       "3           classic      36.545263"
      ]
     },
     "execution_count": 78,
     "metadata": {},
     "output_type": "execute_result"
    }
   ],
   "source": [
    "aux3 = df2[['product_catalog', 'product_price']].groupby('product_catalog').mean().sort_values('product_price').reset_index()\n",
    "aux3"
   ]
  },
  {
   "cell_type": "code",
   "execution_count": 79,
   "id": "0cab96ca",
   "metadata": {},
   "outputs": [
    {
     "data": {
      "image/png": "[encoded data removed]",
      "text/plain": [
       "<Figure size 432x288 with 1 Axes>"
      ]
     },
     "metadata": {
      "needs_background": "light"
     },
     "output_type": "display_data"
    }
   ],
   "source": [
    "sns.barplot(x='product_catalog', y='product_price', data=aux3);"
   ]
  },
  {
   "cell_type": "markdown",
   "id": "501fd3d6",
   "metadata": {},
   "source": [
    "## **H4:** Livros de negócios deveriam ter menor valor de preço que a média\n",
    "    True: Livros de negócios possuem menor valor de preço que a média"
   ]
  },
  {
   "cell_type": "code",
   "execution_count": 80,
   "id": "5e37c050",
   "metadata": {},
   "outputs": [
    {
     "data": {
      "text/plain": [
       "34.38122807017544"
      ]
     },
     "execution_count": 80,
     "metadata": {},
     "output_type": "execute_result"
    }
   ],
   "source": [
    "df2['product_price'].mean()"
   ]
  },
  {
   "cell_type": "code",
   "execution_count": 81,
   "id": "33027c14",
   "metadata": {},
   "outputs": [
    {
     "data": {
      "text/html": [
       "<div>\n",
       "<style scoped>\n",
       "    .dataframe tbody tr th:only-of-type {\n",
       "        vertical-align: middle;\n",
       "    }\n",
       "\n",
       "    .dataframe tbody tr th {\n",
       "        vertical-align: top;\n",
       "    }\n",
       "\n",
       "    .dataframe thead th {\n",
       "        text-align: right;\n",
       "    }\n",
       "</style>\n",
       "<table border=\"1\" class=\"dataframe\">\n",
       "  <thead>\n",
       "    <tr style=\"text-align: right;\">\n",
       "      <th></th>\n",
       "      <th>product_catalog</th>\n",
       "      <th>product_price</th>\n",
       "    </tr>\n",
       "  </thead>\n",
       "  <tbody>\n",
       "    <tr>\n",
       "      <th>0</th>\n",
       "      <td>business</td>\n",
       "      <td>32.460000</td>\n",
       "    </tr>\n",
       "    <tr>\n",
       "      <th>1</th>\n",
       "      <td>humor</td>\n",
       "      <td>33.501000</td>\n",
       "    </tr>\n",
       "    <tr>\n",
       "      <th>2</th>\n",
       "      <td>science_fiction</td>\n",
       "      <td>33.802500</td>\n",
       "    </tr>\n",
       "    <tr>\n",
       "      <th>3</th>\n",
       "      <td>classic</td>\n",
       "      <td>36.545263</td>\n",
       "    </tr>\n",
       "  </tbody>\n",
       "</table>\n",
       "</div>"
      ],
      "text/plain": [
       "    product_catalog  product_price\n",
       "0         business       32.460000\n",
       "1            humor       33.501000\n",
       "2  science_fiction       33.802500\n",
       "3           classic      36.545263"
      ]
     },
     "execution_count": 81,
     "metadata": {},
     "output_type": "execute_result"
    }
   ],
   "source": [
    "aux4 = df2[['product_catalog', 'product_price']].groupby('product_catalog').mean().sort_values('product_price').reset_index()\n",
    "aux4"
   ]
  },
  {
   "cell_type": "code",
   "execution_count": 82,
   "id": "2f06f9f6",
   "metadata": {},
   "outputs": [
    {
     "data": {
      "image/png": "[encoded data removed]",
      "text/plain": [
       "<Figure size 432x288 with 1 Axes>"
      ]
     },
     "metadata": {
      "needs_background": "light"
     },
     "output_type": "display_data"
    }
   ],
   "source": [
    "sns.barplot(x='product_catalog', y='product_price', data=aux4);"
   ]
  },
  {
   "cell_type": "markdown",
   "id": "9ee2743c",
   "metadata": {},
   "source": [
    "## **H5:** Livros com menos estrelas deveriam ter menor valor de preço\n",
    "    True:"
   ]
  },
  {
   "cell_type": "code",
   "execution_count": 83,
   "id": "b0316ab5",
   "metadata": {},
   "outputs": [
    {
     "data": {
      "text/html": [
       "<div>\n",
       "<style scoped>\n",
       "    .dataframe tbody tr th:only-of-type {\n",
       "        vertical-align: middle;\n",
       "    }\n",
       "\n",
       "    .dataframe tbody tr th {\n",
       "        vertical-align: top;\n",
       "    }\n",
       "\n",
       "    .dataframe thead th {\n",
       "        text-align: right;\n",
       "    }\n",
       "</style>\n",
       "<table border=\"1\" class=\"dataframe\">\n",
       "  <thead>\n",
       "    <tr style=\"text-align: right;\">\n",
       "      <th></th>\n",
       "      <th>product_star</th>\n",
       "      <th>product_price</th>\n",
       "    </tr>\n",
       "  </thead>\n",
       "  <tbody>\n",
       "    <tr>\n",
       "      <th>0</th>\n",
       "      <td>One</td>\n",
       "      <td>10.65</td>\n",
       "    </tr>\n",
       "    <tr>\n",
       "      <th>1</th>\n",
       "      <td>Five</td>\n",
       "      <td>11.83</td>\n",
       "    </tr>\n",
       "    <tr>\n",
       "      <th>2</th>\n",
       "      <td>Two</td>\n",
       "      <td>14.82</td>\n",
       "    </tr>\n",
       "    <tr>\n",
       "      <th>3</th>\n",
       "      <td>Four</td>\n",
       "      <td>15.08</td>\n",
       "    </tr>\n",
       "    <tr>\n",
       "      <th>4</th>\n",
       "      <td>Three</td>\n",
       "      <td>17.73</td>\n",
       "    </tr>\n",
       "  </tbody>\n",
       "</table>\n",
       "</div>"
      ],
      "text/plain": [
       "  product_star  product_price\n",
       "0          One          10.65\n",
       "1         Five          11.83\n",
       "2          Two          14.82\n",
       "3         Four          15.08\n",
       "4        Three          17.73"
      ]
     },
     "execution_count": 83,
     "metadata": {},
     "output_type": "execute_result"
    }
   ],
   "source": [
    "aux5 = df2[['product_star', 'product_price']].groupby('product_star').min().sort_values('product_price').reset_index()\n",
    "aux5"
   ]
  },
  {
   "cell_type": "code",
   "execution_count": 84,
   "id": "a3c12cc4",
   "metadata": {},
   "outputs": [
    {
     "data": {
      "image/png": "[encoded data removed]",
      "text/plain": [
       "<Figure size 432x288 with 1 Axes>"
      ]
     },
     "metadata": {
      "needs_background": "light"
     },
     "output_type": "display_data"
    }
   ],
   "source": [
    "sns.barplot(x='product_star', y='product_price', data=aux5);"
   ]
  },
  {
   "cell_type": "markdown",
   "id": "1f350a10",
   "metadata": {},
   "source": [
    "## **H6:** Livros com menos estrelas devereiam somar menor valor de preço\n",
    "    False:"
   ]
  },
  {
   "cell_type": "code",
   "execution_count": 85,
   "id": "030c3793",
   "metadata": {},
   "outputs": [
    {
     "data": {
      "text/html": [
       "<div>\n",
       "<style scoped>\n",
       "    .dataframe tbody tr th:only-of-type {\n",
       "        vertical-align: middle;\n",
       "    }\n",
       "\n",
       "    .dataframe tbody tr th {\n",
       "        vertical-align: top;\n",
       "    }\n",
       "\n",
       "    .dataframe thead th {\n",
       "        text-align: right;\n",
       "    }\n",
       "</style>\n",
       "<table border=\"1\" class=\"dataframe\">\n",
       "  <thead>\n",
       "    <tr style=\"text-align: right;\">\n",
       "      <th></th>\n",
       "      <th>product_star</th>\n",
       "      <th>product_price</th>\n",
       "    </tr>\n",
       "  </thead>\n",
       "  <tbody>\n",
       "    <tr>\n",
       "      <th>0</th>\n",
       "      <td>Five</td>\n",
       "      <td>221.69</td>\n",
       "    </tr>\n",
       "    <tr>\n",
       "      <th>1</th>\n",
       "      <td>Four</td>\n",
       "      <td>291.13</td>\n",
       "    </tr>\n",
       "    <tr>\n",
       "      <th>2</th>\n",
       "      <td>Three</td>\n",
       "      <td>323.91</td>\n",
       "    </tr>\n",
       "    <tr>\n",
       "      <th>3</th>\n",
       "      <td>Two</td>\n",
       "      <td>553.36</td>\n",
       "    </tr>\n",
       "    <tr>\n",
       "      <th>4</th>\n",
       "      <td>One</td>\n",
       "      <td>569.64</td>\n",
       "    </tr>\n",
       "  </tbody>\n",
       "</table>\n",
       "</div>"
      ],
      "text/plain": [
       "  product_star  product_price\n",
       "0         Five         221.69\n",
       "1         Four         291.13\n",
       "2        Three         323.91\n",
       "3          Two         553.36\n",
       "4          One         569.64"
      ]
     },
     "execution_count": 85,
     "metadata": {},
     "output_type": "execute_result"
    }
   ],
   "source": [
    "aux6 = df2[['product_star', 'product_price']].groupby('product_star').sum().sort_values('product_price').reset_index()\n",
    "aux6"
   ]
  },
  {
   "cell_type": "code",
   "execution_count": 86,
   "id": "c9c8a092",
   "metadata": {},
   "outputs": [
    {
     "data": {
      "image/png": "[encoded data removed]",
      "text/plain": [
       "<Figure size 432x288 with 1 Axes>"
      ]
     },
     "metadata": {
      "needs_background": "light"
     },
     "output_type": "display_data"
    }
   ],
   "source": [
    "sns.barplot(x='product_star', y='product_price', data=aux6);"
   ]
  },
  {
   "cell_type": "markdown",
   "id": "036dc788",
   "metadata": {},
   "source": [
    "## **H7:** O número de estrelas deveria infuenciar no valor de preço (proporcionalidade direta)\n",
    "    False"
   ]
  },
  {
   "cell_type": "code",
   "execution_count": 87,
   "id": "059a10d2",
   "metadata": {},
   "outputs": [
    {
     "data": {
      "text/html": [
       "<div>\n",
       "<style scoped>\n",
       "    .dataframe tbody tr th:only-of-type {\n",
       "        vertical-align: middle;\n",
       "    }\n",
       "\n",
       "    .dataframe tbody tr th {\n",
       "        vertical-align: top;\n",
       "    }\n",
       "\n",
       "    .dataframe thead th {\n",
       "        text-align: right;\n",
       "    }\n",
       "</style>\n",
       "<table border=\"1\" class=\"dataframe\">\n",
       "  <thead>\n",
       "    <tr style=\"text-align: right;\">\n",
       "      <th></th>\n",
       "      <th>product_star</th>\n",
       "      <th>product_catalog</th>\n",
       "      <th>product_price</th>\n",
       "    </tr>\n",
       "  </thead>\n",
       "  <tbody>\n",
       "    <tr>\n",
       "      <th>0</th>\n",
       "      <td>Five</td>\n",
       "      <td>business</td>\n",
       "      <td>24.350000</td>\n",
       "    </tr>\n",
       "    <tr>\n",
       "      <th>1</th>\n",
       "      <td>Four</td>\n",
       "      <td>humor</td>\n",
       "      <td>25.980000</td>\n",
       "    </tr>\n",
       "    <tr>\n",
       "      <th>2</th>\n",
       "      <td>Three</td>\n",
       "      <td>business</td>\n",
       "      <td>27.490000</td>\n",
       "    </tr>\n",
       "    <tr>\n",
       "      <th>3</th>\n",
       "      <td>Five</td>\n",
       "      <td>humor</td>\n",
       "      <td>28.242500</td>\n",
       "    </tr>\n",
       "    <tr>\n",
       "      <th>4</th>\n",
       "      <td>Four</td>\n",
       "      <td>classic</td>\n",
       "      <td>28.280000</td>\n",
       "    </tr>\n",
       "    <tr>\n",
       "      <th>5</th>\n",
       "      <td>Four</td>\n",
       "      <td>science_fiction</td>\n",
       "      <td>29.672500</td>\n",
       "    </tr>\n",
       "    <tr>\n",
       "      <th>6</th>\n",
       "      <td>Four</td>\n",
       "      <td>business</td>\n",
       "      <td>33.340000</td>\n",
       "    </tr>\n",
       "    <tr>\n",
       "      <th>7</th>\n",
       "      <td>Two</td>\n",
       "      <td>business</td>\n",
       "      <td>34.435000</td>\n",
       "    </tr>\n",
       "    <tr>\n",
       "      <th>8</th>\n",
       "      <td>One</td>\n",
       "      <td>humor</td>\n",
       "      <td>34.810000</td>\n",
       "    </tr>\n",
       "    <tr>\n",
       "      <th>9</th>\n",
       "      <td>Two</td>\n",
       "      <td>science_fiction</td>\n",
       "      <td>34.955000</td>\n",
       "    </tr>\n",
       "    <tr>\n",
       "      <th>10</th>\n",
       "      <td>One</td>\n",
       "      <td>science_fiction</td>\n",
       "      <td>35.237143</td>\n",
       "    </tr>\n",
       "    <tr>\n",
       "      <th>11</th>\n",
       "      <td>Five</td>\n",
       "      <td>science_fiction</td>\n",
       "      <td>35.670000</td>\n",
       "    </tr>\n",
       "    <tr>\n",
       "      <th>12</th>\n",
       "      <td>Two</td>\n",
       "      <td>classic</td>\n",
       "      <td>36.700000</td>\n",
       "    </tr>\n",
       "    <tr>\n",
       "      <th>13</th>\n",
       "      <td>Three</td>\n",
       "      <td>humor</td>\n",
       "      <td>37.685000</td>\n",
       "    </tr>\n",
       "    <tr>\n",
       "      <th>14</th>\n",
       "      <td>One</td>\n",
       "      <td>classic</td>\n",
       "      <td>40.523333</td>\n",
       "    </tr>\n",
       "    <tr>\n",
       "      <th>15</th>\n",
       "      <td>Three</td>\n",
       "      <td>classic</td>\n",
       "      <td>41.517500</td>\n",
       "    </tr>\n",
       "    <tr>\n",
       "      <th>16</th>\n",
       "      <td>One</td>\n",
       "      <td>business</td>\n",
       "      <td>43.930000</td>\n",
       "    </tr>\n",
       "    <tr>\n",
       "      <th>17</th>\n",
       "      <td>Two</td>\n",
       "      <td>humor</td>\n",
       "      <td>51.070000</td>\n",
       "    </tr>\n",
       "  </tbody>\n",
       "</table>\n",
       "</div>"
      ],
      "text/plain": [
       "   product_star   product_catalog  product_price\n",
       "0          Five         business       24.350000\n",
       "1          Four            humor       25.980000\n",
       "2         Three         business       27.490000\n",
       "3          Five            humor       28.242500\n",
       "4          Four           classic      28.280000\n",
       "5          Four  science_fiction       29.672500\n",
       "6          Four         business       33.340000\n",
       "7           Two         business       34.435000\n",
       "8           One            humor       34.810000\n",
       "9           Two  science_fiction       34.955000\n",
       "10          One  science_fiction       35.237143\n",
       "11         Five  science_fiction       35.670000\n",
       "12          Two           classic      36.700000\n",
       "13        Three            humor       37.685000\n",
       "14          One           classic      40.523333\n",
       "15        Three           classic      41.517500\n",
       "16          One         business       43.930000\n",
       "17          Two            humor       51.070000"
      ]
     },
     "execution_count": 87,
     "metadata": {},
     "output_type": "execute_result"
    }
   ],
   "source": [
    "aux7 = df2[['product_star', 'product_catalog', 'product_price']].groupby(['product_star', 'product_catalog']).mean().sort_values('product_price').reset_index()\n",
    "aux7"
   ]
  },
  {
   "cell_type": "code",
   "execution_count": 88,
   "id": "1b1cc83a",
   "metadata": {},
   "outputs": [
    {
     "data": {
      "image/png": "[encoded data removed]",
      "text/plain": [
       "<Figure size 432x288 with 1 Axes>"
      ]
     },
     "metadata": {
      "needs_background": "light"
     },
     "output_type": "display_data"
    }
   ],
   "source": [
    "sns.barplot(x='product_star', y='product_price', data=aux7);"
   ]
  }
 ],
 "metadata": {
  "kernelspec": {
   "display_name": "Python 3 (ipykernel)",
   "language": "python",
   "name": "python3"
  },
  "language_info": {
   "codemirror_mode": {
    "name": "ipython",
    "version": 3
   },
   "file_extension": ".py",
   "mimetype": "text/x-python",
   "name": "python",
   "nbconvert_exporter": "python",
   "pygments_lexer": "ipython3",
   "version": "3.9.7"
  }
 },
 "nbformat": 4,
 "nbformat_minor": 5
}
